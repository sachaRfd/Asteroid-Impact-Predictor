{
 "cells": [
  {
   "cell_type": "markdown",
   "id": "af02e9a2",
   "metadata": {},
   "source": [
    "### This Example Problem has been adapted from one of my Coursework for the Data Science and Machine Learning Module @ Imperial College London"
   ]
  },
  {
   "cell_type": "markdown",
   "id": "5137afde",
   "metadata": {},
   "source": [
    "Your first client is **NASA**! They have had a lot of success with their recent **Double Asteroid Redirection Test**, or **DART** mission: now, they have an increased buget and they want to spend it on some predictive machine learning. This is where you come into play: you will help **NASA** train a machine learning algorithm that can determine whether or not a near-Earth asteroid is **hazardous** (dangerous). <br>"
   ]
  },
  {
   "cell_type": "markdown",
   "id": "e2750b2f",
   "metadata": {},
   "source": [
    "### -  First Let's do the required imports and Checkout the data we are working with"
   ]
  },
  {
   "cell_type": "code",
   "execution_count": 141,
   "id": "2fd854a8",
   "metadata": {},
   "outputs": [
    {
     "name": "stdout",
     "output_type": "stream",
     "text": [
      "Number of Duplicates in the dataset:  0\n"
     ]
    },
    {
     "data": {
      "text/html": [
       "<div>\n",
       "<style scoped>\n",
       "    .dataframe tbody tr th:only-of-type {\n",
       "        vertical-align: middle;\n",
       "    }\n",
       "\n",
       "    .dataframe tbody tr th {\n",
       "        vertical-align: top;\n",
       "    }\n",
       "\n",
       "    .dataframe thead th {\n",
       "        text-align: right;\n",
       "    }\n",
       "</style>\n",
       "<table border=\"1\" class=\"dataframe\">\n",
       "  <thead>\n",
       "    <tr style=\"text-align: right;\">\n",
       "      <th></th>\n",
       "      <th>id</th>\n",
       "      <th>name</th>\n",
       "      <th>est_diameter_min</th>\n",
       "      <th>est_diameter_max</th>\n",
       "      <th>relative_velocity</th>\n",
       "      <th>miss_distance</th>\n",
       "      <th>orbiting_body</th>\n",
       "      <th>sentry_object</th>\n",
       "      <th>absolute_magnitude</th>\n",
       "      <th>hazardous</th>\n",
       "    </tr>\n",
       "  </thead>\n",
       "  <tbody>\n",
       "    <tr>\n",
       "      <th>0</th>\n",
       "      <td>26150198</td>\n",
       "      <td>Object_26150198</td>\n",
       "      <td>0.031956</td>\n",
       "      <td>0.071456</td>\n",
       "      <td>75374.759095</td>\n",
       "      <td>1.070689e+06</td>\n",
       "      <td>Earth</td>\n",
       "      <td>False</td>\n",
       "      <td>24.60</td>\n",
       "      <td>False</td>\n",
       "    </tr>\n",
       "    <tr>\n",
       "      <th>1</th>\n",
       "      <td>7025688</td>\n",
       "      <td>Object_7025688</td>\n",
       "      <td>0.133216</td>\n",
       "      <td>0.297879</td>\n",
       "      <td>33274.114790</td>\n",
       "      <td>1.598217e+07</td>\n",
       "      <td>Earth</td>\n",
       "      <td>False</td>\n",
       "      <td>21.50</td>\n",
       "      <td>False</td>\n",
       "    </tr>\n",
       "    <tr>\n",
       "      <th>2</th>\n",
       "      <td>43368461</td>\n",
       "      <td>Object_43368461</td>\n",
       "      <td>0.043507</td>\n",
       "      <td>0.097284</td>\n",
       "      <td>74702.349802</td>\n",
       "      <td>2.330585e+06</td>\n",
       "      <td>Earth</td>\n",
       "      <td>False</td>\n",
       "      <td>23.93</td>\n",
       "      <td>False</td>\n",
       "    </tr>\n",
       "    <tr>\n",
       "      <th>3</th>\n",
       "      <td>41099354</td>\n",
       "      <td>Object_41099354</td>\n",
       "      <td>0.012149</td>\n",
       "      <td>0.027167</td>\n",
       "      <td>33078.313997</td>\n",
       "      <td>4.561178e+07</td>\n",
       "      <td>Earth</td>\n",
       "      <td>False</td>\n",
       "      <td>26.70</td>\n",
       "      <td>False</td>\n",
       "    </tr>\n",
       "    <tr>\n",
       "      <th>4</th>\n",
       "      <td>25572576</td>\n",
       "      <td>Object_25572576</td>\n",
       "      <td>0.058151</td>\n",
       "      <td>0.130029</td>\n",
       "      <td>51956.093518</td>\n",
       "      <td>3.613123e+06</td>\n",
       "      <td>Earth</td>\n",
       "      <td>False</td>\n",
       "      <td>23.30</td>\n",
       "      <td>False</td>\n",
       "    </tr>\n",
       "    <tr>\n",
       "      <th>...</th>\n",
       "      <td>...</td>\n",
       "      <td>...</td>\n",
       "      <td>...</td>\n",
       "      <td>...</td>\n",
       "      <td>...</td>\n",
       "      <td>...</td>\n",
       "      <td>...</td>\n",
       "      <td>...</td>\n",
       "      <td>...</td>\n",
       "      <td>...</td>\n",
       "    </tr>\n",
       "    <tr>\n",
       "      <th>9078</th>\n",
       "      <td>36478193</td>\n",
       "      <td>Object_36478193</td>\n",
       "      <td>0.009006</td>\n",
       "      <td>0.020139</td>\n",
       "      <td>23099.050602</td>\n",
       "      <td>5.684655e+06</td>\n",
       "      <td>Earth</td>\n",
       "      <td>False</td>\n",
       "      <td>27.35</td>\n",
       "      <td>False</td>\n",
       "    </tr>\n",
       "    <tr>\n",
       "      <th>9079</th>\n",
       "      <td>16202568</td>\n",
       "      <td>Object_16202568</td>\n",
       "      <td>0.265800</td>\n",
       "      <td>0.594347</td>\n",
       "      <td>10471.823883</td>\n",
       "      <td>5.344484e+07</td>\n",
       "      <td>Earth</td>\n",
       "      <td>False</td>\n",
       "      <td>20.00</td>\n",
       "      <td>False</td>\n",
       "    </tr>\n",
       "    <tr>\n",
       "      <th>9080</th>\n",
       "      <td>46971691</td>\n",
       "      <td>Object_46971691</td>\n",
       "      <td>0.934448</td>\n",
       "      <td>2.089488</td>\n",
       "      <td>63346.840101</td>\n",
       "      <td>6.688082e+07</td>\n",
       "      <td>Earth</td>\n",
       "      <td>False</td>\n",
       "      <td>17.27</td>\n",
       "      <td>True</td>\n",
       "    </tr>\n",
       "    <tr>\n",
       "      <th>9081</th>\n",
       "      <td>14373311</td>\n",
       "      <td>Object_14373311</td>\n",
       "      <td>0.007666</td>\n",
       "      <td>0.017141</td>\n",
       "      <td>23682.903814</td>\n",
       "      <td>4.247773e+05</td>\n",
       "      <td>Earth</td>\n",
       "      <td>False</td>\n",
       "      <td>27.70</td>\n",
       "      <td>False</td>\n",
       "    </tr>\n",
       "    <tr>\n",
       "      <th>9082</th>\n",
       "      <td>49141013</td>\n",
       "      <td>Object_49141013</td>\n",
       "      <td>0.008801</td>\n",
       "      <td>0.019681</td>\n",
       "      <td>30799.741946</td>\n",
       "      <td>7.430419e+07</td>\n",
       "      <td>Earth</td>\n",
       "      <td>False</td>\n",
       "      <td>27.40</td>\n",
       "      <td>False</td>\n",
       "    </tr>\n",
       "  </tbody>\n",
       "</table>\n",
       "<p>9083 rows × 10 columns</p>\n",
       "</div>"
      ],
      "text/plain": [
       "            id             name  est_diameter_min  est_diameter_max  \\\n",
       "0     26150198  Object_26150198          0.031956          0.071456   \n",
       "1      7025688   Object_7025688          0.133216          0.297879   \n",
       "2     43368461  Object_43368461          0.043507          0.097284   \n",
       "3     41099354  Object_41099354          0.012149          0.027167   \n",
       "4     25572576  Object_25572576          0.058151          0.130029   \n",
       "...        ...              ...               ...               ...   \n",
       "9078  36478193  Object_36478193          0.009006          0.020139   \n",
       "9079  16202568  Object_16202568          0.265800          0.594347   \n",
       "9080  46971691  Object_46971691          0.934448          2.089488   \n",
       "9081  14373311  Object_14373311          0.007666          0.017141   \n",
       "9082  49141013  Object_49141013          0.008801          0.019681   \n",
       "\n",
       "      relative_velocity  miss_distance orbiting_body  sentry_object  \\\n",
       "0          75374.759095   1.070689e+06         Earth          False   \n",
       "1          33274.114790   1.598217e+07         Earth          False   \n",
       "2          74702.349802   2.330585e+06         Earth          False   \n",
       "3          33078.313997   4.561178e+07         Earth          False   \n",
       "4          51956.093518   3.613123e+06         Earth          False   \n",
       "...                 ...            ...           ...            ...   \n",
       "9078       23099.050602   5.684655e+06         Earth          False   \n",
       "9079       10471.823883   5.344484e+07         Earth          False   \n",
       "9080       63346.840101   6.688082e+07         Earth          False   \n",
       "9081       23682.903814   4.247773e+05         Earth          False   \n",
       "9082       30799.741946   7.430419e+07         Earth          False   \n",
       "\n",
       "      absolute_magnitude  hazardous  \n",
       "0                  24.60      False  \n",
       "1                  21.50      False  \n",
       "2                  23.93      False  \n",
       "3                  26.70      False  \n",
       "4                  23.30      False  \n",
       "...                  ...        ...  \n",
       "9078               27.35      False  \n",
       "9079               20.00      False  \n",
       "9080               17.27       True  \n",
       "9081               27.70      False  \n",
       "9082               27.40      False  \n",
       "\n",
       "[9083 rows x 10 columns]"
      ]
     },
     "execution_count": 141,
     "metadata": {},
     "output_type": "execute_result"
    }
   ],
   "source": [
    "import pandas as pd\n",
    "import numpy as np\n",
    "\n",
    "data = pd.read_csv('asteroid_training.csv')\n",
    "unknown_objects = pd.read_csv('unknown_asteroids.csv')\n",
    "print('Number of Duplicates in the dataset: ', data.duplicated().sum())  # There are no duplicates \n",
    "\n",
    "data"
   ]
  },
  {
   "cell_type": "markdown",
   "id": "0afb73a4",
   "metadata": {},
   "source": [
    "Description of the Data: \n",
    "- The target of our Data is the Hazardous Column"
   ]
  },
  {
   "cell_type": "markdown",
   "id": "4db7d7f1",
   "metadata": {},
   "source": [
    "Before any further description of the data, we need to split our dataset into train and test sets so that there is no data-leakage: \n"
   ]
  },
  {
   "cell_type": "code",
   "execution_count": 89,
   "id": "c13cf196",
   "metadata": {},
   "outputs": [],
   "source": [
    "from sklearn.model_selection import train_test_split\n",
    "\n",
    "y = data.hazardous\n",
    "X = data.drop(columns='hazardous')\n",
    "\n",
    "X_train, X_test, y_train, y_test = train_test_split(X, y, train_size=0.7, random_state=42)  # as we dont have that much data let's choose a train size of 70%"
   ]
  },
  {
   "cell_type": "markdown",
   "id": "15026912",
   "metadata": {},
   "source": [
    "# EDA of our Train Set"
   ]
  },
  {
   "cell_type": "code",
   "execution_count": 12,
   "id": "60ad0ac0",
   "metadata": {},
   "outputs": [
    {
     "name": "stdout",
     "output_type": "stream",
     "text": [
      "False    5770\n",
      "True      588\n",
      "Name: hazardous, dtype: int64\n"
     ]
    }
   ],
   "source": [
    "print(y_train.value_counts())"
   ]
  },
  {
   "cell_type": "markdown",
   "id": "eca212b2",
   "metadata": {},
   "source": [
    "From the value counts we can see that our data is not balanced --> we will try to fix this after constructing a baseline model"
   ]
  },
  {
   "cell_type": "code",
   "execution_count": 14,
   "id": "f90e6539",
   "metadata": {},
   "outputs": [
    {
     "data": {
      "text/html": [
       "<div>\n",
       "<style scoped>\n",
       "    .dataframe tbody tr th:only-of-type {\n",
       "        vertical-align: middle;\n",
       "    }\n",
       "\n",
       "    .dataframe tbody tr th {\n",
       "        vertical-align: top;\n",
       "    }\n",
       "\n",
       "    .dataframe thead th {\n",
       "        text-align: right;\n",
       "    }\n",
       "</style>\n",
       "<table border=\"1\" class=\"dataframe\">\n",
       "  <thead>\n",
       "    <tr style=\"text-align: right;\">\n",
       "      <th></th>\n",
       "      <th>id</th>\n",
       "      <th>name</th>\n",
       "      <th>est_diameter_min</th>\n",
       "      <th>est_diameter_max</th>\n",
       "      <th>relative_velocity</th>\n",
       "      <th>miss_distance</th>\n",
       "      <th>orbiting_body</th>\n",
       "      <th>sentry_object</th>\n",
       "      <th>absolute_magnitude</th>\n",
       "    </tr>\n",
       "  </thead>\n",
       "  <tbody>\n",
       "    <tr>\n",
       "      <th>1634</th>\n",
       "      <td>35344267</td>\n",
       "      <td>Object_35344267</td>\n",
       "      <td>0.029144</td>\n",
       "      <td>0.065169</td>\n",
       "      <td>32438.053870</td>\n",
       "      <td>1.041869e+07</td>\n",
       "      <td>Earth</td>\n",
       "      <td>False</td>\n",
       "      <td>24.80</td>\n",
       "    </tr>\n",
       "    <tr>\n",
       "      <th>5936</th>\n",
       "      <td>46625249</td>\n",
       "      <td>Object_46625249</td>\n",
       "      <td>0.055790</td>\n",
       "      <td>0.124750</td>\n",
       "      <td>39899.786912</td>\n",
       "      <td>5.722143e+07</td>\n",
       "      <td>Earth</td>\n",
       "      <td>False</td>\n",
       "      <td>23.39</td>\n",
       "    </tr>\n",
       "    <tr>\n",
       "      <th>5130</th>\n",
       "      <td>13643917</td>\n",
       "      <td>Object_13643917</td>\n",
       "      <td>0.278327</td>\n",
       "      <td>0.622358</td>\n",
       "      <td>81698.972959</td>\n",
       "      <td>5.598045e+07</td>\n",
       "      <td>Earth</td>\n",
       "      <td>False</td>\n",
       "      <td>19.90</td>\n",
       "    </tr>\n",
       "    <tr>\n",
       "      <th>2921</th>\n",
       "      <td>19716571</td>\n",
       "      <td>Object_19716571</td>\n",
       "      <td>0.167708</td>\n",
       "      <td>0.375008</td>\n",
       "      <td>68377.688474</td>\n",
       "      <td>6.246283e+07</td>\n",
       "      <td>Earth</td>\n",
       "      <td>False</td>\n",
       "      <td>21.00</td>\n",
       "    </tr>\n",
       "    <tr>\n",
       "      <th>3912</th>\n",
       "      <td>43612506</td>\n",
       "      <td>Object_43612506</td>\n",
       "      <td>0.080270</td>\n",
       "      <td>0.179490</td>\n",
       "      <td>33787.963517</td>\n",
       "      <td>3.483622e+07</td>\n",
       "      <td>Earth</td>\n",
       "      <td>False</td>\n",
       "      <td>22.60</td>\n",
       "    </tr>\n",
       "  </tbody>\n",
       "</table>\n",
       "</div>"
      ],
      "text/plain": [
       "            id             name  est_diameter_min  est_diameter_max  \\\n",
       "1634  35344267  Object_35344267          0.029144          0.065169   \n",
       "5936  46625249  Object_46625249          0.055790          0.124750   \n",
       "5130  13643917  Object_13643917          0.278327          0.622358   \n",
       "2921  19716571  Object_19716571          0.167708          0.375008   \n",
       "3912  43612506  Object_43612506          0.080270          0.179490   \n",
       "\n",
       "      relative_velocity  miss_distance orbiting_body  sentry_object  \\\n",
       "1634       32438.053870   1.041869e+07         Earth          False   \n",
       "5936       39899.786912   5.722143e+07         Earth          False   \n",
       "5130       81698.972959   5.598045e+07         Earth          False   \n",
       "2921       68377.688474   6.246283e+07         Earth          False   \n",
       "3912       33787.963517   3.483622e+07         Earth          False   \n",
       "\n",
       "      absolute_magnitude  \n",
       "1634               24.80  \n",
       "5936               23.39  \n",
       "5130               19.90  \n",
       "2921               21.00  \n",
       "3912               22.60  "
      ]
     },
     "execution_count": 14,
     "metadata": {},
     "output_type": "execute_result"
    }
   ],
   "source": [
    "X_train.head()"
   ]
  },
  {
   "cell_type": "markdown",
   "id": "c337ad7a",
   "metadata": {},
   "source": [
    "From just looking at the feautures, we can see that some of them will lead to no added value to the ML algorithm: These features include the id and name of the Asteroids, as well as the Orbiting_body feature, and sentry_object (As it only has 1 value count). If we kept these, they would bring no new information to the model as well as contribute to a larger amount of features (curse of dimentionality)."
   ]
  },
  {
   "cell_type": "markdown",
   "id": "e98eed3a",
   "metadata": {},
   "source": [
    "#### So let's remove them from our feature lists."
   ]
  },
  {
   "cell_type": "code",
   "execution_count": 15,
   "id": "7df3360c",
   "metadata": {},
   "outputs": [],
   "source": [
    "X.drop(columns=['id', 'name', 'orbiting_body', 'sentry_object'], inplace=True)\n",
    "\n",
    "X_train, X_test, y_train, y_test = train_test_split(X, y, train_size=0.7, random_state=42)  # as we dont have that much data let's choose a train size of 70%"
   ]
  },
  {
   "cell_type": "markdown",
   "id": "0f323791",
   "metadata": {},
   "source": [
    "Now that we have removed the unnecessary features, let's look at if any of the features have correlation"
   ]
  },
  {
   "cell_type": "code",
   "execution_count": 16,
   "id": "4eeb2807",
   "metadata": {},
   "outputs": [
    {
     "data": {
      "text/plain": [
       "<AxesSubplot: >"
      ]
     },
     "execution_count": 16,
     "metadata": {},
     "output_type": "execute_result"
    },
    {
     "data": {
      "image/png": "[encoded data removed]",
      "text/plain": [
       "<Figure size 640x480 with 2 Axes>"
      ]
     },
     "metadata": {},
     "output_type": "display_data"
    }
   ],
   "source": [
    "import seaborn as sb\n",
    "\n",
    "correlation = X_train.corr()\n",
    "\n",
    "sb.heatmap(correlation, annot=True)"
   ]
  },
  {
   "cell_type": "markdown",
   "id": "b2f2a783",
   "metadata": {},
   "source": [
    "From the correlation matrix, we can clearly see that estimated diameter max and min are correlated, this makes sense as they were predictions.\n",
    "\n",
    "We will try to manipulate this correlation after our baseline model has been done"
   ]
  },
  {
   "cell_type": "markdown",
   "id": "0f4c4ca2",
   "metadata": {},
   "source": [
    "Now Let's visualise our features to see if they would need some scaling"
   ]
  },
  {
   "cell_type": "code",
   "execution_count": 17,
   "id": "38726f9f",
   "metadata": {},
   "outputs": [
    {
     "data": {
      "image/png": "[encoded data removed]",
      "text/plain": [
       "<Figure size 1500x1000 with 6 Axes>"
      ]
     },
     "metadata": {},
     "output_type": "display_data"
    }
   ],
   "source": [
    "X_train.hist(figsize = (15, 10));"
   ]
  },
  {
   "cell_type": "markdown",
   "id": "3e739704",
   "metadata": {},
   "source": [
    "We can see that the relative velocity is quite skewed, the miss distance has varied samples from 0-7. The absolute magnitude is normally distributed but not centred around 0. The min and max diameters would maybe need some feature engineering to get a distribution from them.\n",
    "\n",
    "From this I think that the absolute magnitude would need a Standard Scale, the relative velocity as well. The miss_distance a MinMax scale, and the estimated diameters maybe get their log values. We will do this after getting a baseline model."
   ]
  },
  {
   "cell_type": "markdown",
   "id": "045e049d",
   "metadata": {},
   "source": [
    "Let's now check to see if they contain any outliers:"
   ]
  },
  {
   "cell_type": "code",
   "execution_count": 18,
   "id": "4421317c",
   "metadata": {
    "scrolled": false
   },
   "outputs": [
    {
     "data": {
      "image/png": "[encoded data removed]",
      "text/plain": [
       "<Figure size 640x480 with 1 Axes>"
      ]
     },
     "metadata": {},
     "output_type": "display_data"
    },
    {
     "data": {
      "image/png": "[encoded data removed]",
      "text/plain": [
       "<Figure size 640x480 with 1 Axes>"
      ]
     },
     "metadata": {},
     "output_type": "display_data"
    },
    {
     "data": {
      "image/png": "[encoded data removed]",
      "text/plain": [
       "<Figure size 640x480 with 1 Axes>"
      ]
     },
     "metadata": {},
     "output_type": "display_data"
    },
    {
     "data": {
      "image/png": "[encoded data removed]",
      "text/plain": [
       "<Figure size 640x480 with 1 Axes>"
      ]
     },
     "metadata": {},
     "output_type": "display_data"
    },
    {
     "data": {
      "image/png": "[encoded data removed]",
      "text/plain": [
       "<Figure size 640x480 with 1 Axes>"
      ]
     },
     "metadata": {},
     "output_type": "display_data"
    }
   ],
   "source": [
    "import matplotlib.pyplot as plt\n",
    "\n",
    "X_columns = X_train.columns\n",
    "for i in X_columns:\n",
    "    plt.boxplot(X_train[i]);\n",
    "    plt.title(str(i))\n",
    "    plt.show()"
   ]
  },
  {
   "cell_type": "markdown",
   "id": "1bef8629",
   "metadata": {},
   "source": [
    "From this, we can observe some outliers in the estimation of the diameters of the asteroids, so we could remove those samples that are above 50 (UNITS). \n",
    "\n",
    "The realtive velocity has some outliers, so we should apply a Robust scaler to this feature.\n",
    "The miss distance and absolute magnitude dont seem to contain rough outliers, but maybe the one sample at 10 for absolute magnitude could be. We will try to optimise it more later."
   ]
  },
  {
   "cell_type": "markdown",
   "id": "f6e679c2",
   "metadata": {},
   "source": [
    "Let's now check for any missing values in these features:"
   ]
  },
  {
   "cell_type": "code",
   "execution_count": 19,
   "id": "b9db742f",
   "metadata": {},
   "outputs": [
    {
     "data": {
      "text/plain": [
       "est_diameter_min      0\n",
       "est_diameter_max      0\n",
       "relative_velocity     0\n",
       "miss_distance         0\n",
       "absolute_magnitude    0\n",
       "dtype: int64"
      ]
     },
     "execution_count": 19,
     "metadata": {},
     "output_type": "execute_result"
    }
   ],
   "source": [
    "X_train.isnull().sum() "
   ]
  },
  {
   "cell_type": "markdown",
   "id": "bbe174b5",
   "metadata": {},
   "source": [
    "There doesnt seem to be any missing values in our features, but we could implement a Simple imputer in case there are any in the test set or further tests sets in the feature"
   ]
  },
  {
   "cell_type": "markdown",
   "id": "4bc0cbdc",
   "metadata": {},
   "source": [
    "So things to optimise after our baseline model would be:\n",
    "- to fix the correlation between min max diameter estimations, --> maybe apply PCA\n",
    "- absolute magnitude would need a Robust Scale, the relative velocity as well (because of outliers but theyre normally distributed). \n",
    "- The miss_distance a MinMax scale, and the estimated diameters maybe get their log values. \n",
    "- Add a Simple Encoder to our final Pipeline incase there are any future null samples (Strategy mean - as we only have numerical features)"
   ]
  },
  {
   "cell_type": "markdown",
   "id": "df50ac5b",
   "metadata": {},
   "source": [
    "Let's now create our baseline Models: Linear-Logistic regression and SVC (Support Vector Classification) - as our probelm here is a classification one. \n",
    "\n",
    "As NASA will evaluate your model using a metric that determines the overall performance of the model at all thresholds, we will evalute our models with the AUC_ROC score, as accuracy would not be great as our y vector is not balanced and we want an accurate model at all thresholds."
   ]
  },
  {
   "cell_type": "code",
   "execution_count": 24,
   "id": "6e74434f",
   "metadata": {},
   "outputs": [
    {
     "name": "stdout",
     "output_type": "stream",
     "text": [
      "Baseline Logistic Regression AUC score:  0.3478094640956113\n",
      "Baseline SGD AUC score:  0.45599034486810286\n",
      "Baseline SVC AUC score:  0.5415979486389931\n"
     ]
    }
   ],
   "source": [
    "from sklearn.linear_model import LogisticRegression, SGDClassifier\n",
    "from sklearn.model_selection import cross_validate\n",
    "from sklearn.svm import SVC\n",
    "from sklearn.metrics import auc\n",
    "\n",
    "base_Log_regression_model = LogisticRegression(max_iter=1000, random_state=42)\n",
    "base_SGD_model = SGDClassifier(random_state=42)\n",
    "base_SVC_model = SVC(random_state=42)\n",
    "\n",
    "cv_base_LG = cross_validate(base_Log_regression_model, X_train, y_train, cv=10, n_jobs=-1, scoring='roc_auc')\n",
    "cv_base_SGD = cross_validate(base_SGD_model, X_train, y_train, cv=10, n_jobs=-1, scoring='roc_auc')\n",
    "cv_base_SVC = cross_validate(base_SVC_model, X_train, y_train, cv=10, n_jobs=-1, scoring='roc_auc')\n",
    "\n",
    "base_LG_score = cv_base_LG['test_score'].mean()\n",
    "base_SGD_score = cv_base_SGD['test_score'].mean()\n",
    "base_SVC_score = cv_base_SVC['test_score'].mean()\n",
    "\n",
    "print('Baseline Logistic Regression AUC score: ', base_LG_score)\n",
    "print('Baseline SGD AUC score: ', base_SGD_score)\n",
    "print('Baseline SVC AUC score: ', base_SVC_score)"
   ]
  },
  {
   "cell_type": "markdown",
   "id": "3c46ab37",
   "metadata": {},
   "source": [
    "We can see from our baseline models, that the SVC and SGD models have better scores, we will evalute the best model later during the optimisation."
   ]
  },
  {
   "cell_type": "markdown",
   "id": "e8afd576",
   "metadata": {},
   "source": [
    "So things to optimise after our baseline model would be:\n",
    "- to fix the correlation between min max diameter estimations, --> maybe apply PCA\n",
    "- absolute magnitude would need a Robust Scale, the relative velocity as well (because of outliers but theyre normally distributed). \n",
    "- The miss_distance a MinMax scale, \n",
    "- The estimated diameters maybe get their log values. \n",
    "- Add a Simple Encoder to our final Pipeline incase there are any future null samples (Strategy mean - as we only have numerical features)"
   ]
  },
  {
   "cell_type": "code",
   "execution_count": 46,
   "id": "67e2e516",
   "metadata": {},
   "outputs": [],
   "source": [
    "from sklearn.pipeline import Pipeline\n",
    "from sklearn.preprocessing import RobustScaler, MinMaxScaler, FunctionTransformer\n",
    "from sklearn.compose import make_column_transformer\n",
    "from sklearn import set_config\n",
    "set_config(display=\"diagram\")\n",
    "\n",
    "\n",
    "Robust_Scale = RobustScaler()\n",
    "MinMax_Scale = MinMaxScaler()\n",
    "transformer = FunctionTransformer(lambda x: np.log(x + 1e-5))\n",
    "\n",
    "Preproc = make_column_transformer((transformer, ['est_diameter_min', 'est_diameter_min']),(Robust_Scale, ['absolute_magnitude', 'relative_velocity']), (MinMax_Scale, ['miss_distance']))\n",
    "Pipeline_with_models = Pipeline(([('Preprocessing', Preproc), ('Classifier', SGDClassifier())]))"
   ]
  },
  {
   "cell_type": "code",
   "execution_count": 60,
   "id": "8720777d",
   "metadata": {},
   "outputs": [
    {
     "name": "stdout",
     "output_type": "stream",
     "text": [
      "Optimised Logistic regression AUC score:  0.8726941241481676\n"
     ]
    }
   ],
   "source": [
    "cv_test = cross_validate(Pipeline_with_models, X_train, y_train, cv=5, n_jobs=-1, scoring='roc_auc')\n",
    "cv_test_score = cv_test['test_score'].mean()\n",
    "print('Optimised Logistic regression AUC score: ', cv_test_score)"
   ]
  },
  {
   "cell_type": "markdown",
   "id": "b235a450",
   "metadata": {},
   "source": [
    "We can see that our optimisation has increased our model significantly by over 50%. Let's conduct a gridsearch to see which model performs better."
   ]
  },
  {
   "cell_type": "code",
   "execution_count": 107,
   "id": "b4034a3c",
   "metadata": {},
   "outputs": [],
   "source": [
    "import warnings\n",
    "warnings.filterwarnings('ignore')  # To ignore the Warnings\n",
    "\n",
    "from sklearn.model_selection import GridSearchCV\n",
    "import scipy.stats as stats\n",
    "\n",
    "grid = [{'Classifier': [LogisticRegression(random_state=42, max_iter=5000)], \n",
    "       'Classifier__penalty':['l1','l2'],\n",
    "          'Classifier__C': [0.001, 0.01, 0.1],\n",
    "          'Classifier__class_weight':[None, 'balanced'],\n",
    "          'Classifier__solver':['liblinear', 'saga']},\n",
    "       \n",
    "        # loss='hinge', penalty='l2', keeping learning rate optimal should be fine\n",
    "        {'Classifier': [SGDClassifier(random_state=42)],\n",
    "         'Classifier__loss': ['hinge', 'log_loss'],\n",
    "         'Classifier__penalty': ['l1', 'l2'],\n",
    "         'Classifier__alpha': [0.0001, 0.001, 0.01,0.1],\n",
    "         'Classifier__learning_rate': ['optimal', 'adaptive']\n",
    "        },\n",
    "        \n",
    "        #kernel='linear', C=10\n",
    "        {'Classifier': [SVC(random_state=42)],\n",
    "         'Classifier__kernel': ['linear', 'poly', 'rbf', 'sigmoid'],\n",
    "         'Classifier__C': [0.001, 0.01, 0.1]\n",
    "        },\n",
    "       \n",
    "       ]\n",
    "\n",
    "search = GridSearchCV(Pipeline_with_models, grid, cv=10, scoring='roc_auc' , n_jobs=-1)\n",
    "search.fit(X_train, y_train)"
   ]
  },
  {
   "cell_type": "code",
   "execution_count": 44,
   "id": "66ee503a",
   "metadata": {},
   "outputs": [
    {
     "data": {
      "text/plain": [
       "0.8786035814745448"
      ]
     },
     "execution_count": 44,
     "metadata": {},
     "output_type": "execute_result"
    }
   ],
   "source": [
    "search.best_score_"
   ]
  },
  {
   "cell_type": "code",
   "execution_count": 45,
   "id": "a6a47e81",
   "metadata": {},
   "outputs": [
    {
     "data": {
      "text/plain": [
       "{'Classifier': SGDClassifier(alpha=0.001, loss='log_loss', random_state=42),\n",
       " 'Classifier__alpha': 0.001,\n",
       " 'Classifier__learning_rate': 'optimal',\n",
       " 'Classifier__loss': 'log_loss',\n",
       " 'Classifier__penalty': 'l2'}"
      ]
     },
     "execution_count": 45,
     "metadata": {},
     "output_type": "execute_result"
    }
   ],
   "source": [
    "search.best_params_"
   ]
  },
  {
   "cell_type": "markdown",
   "id": "4b761190",
   "metadata": {},
   "source": [
    "Our Best Model seems to be the SGD classifier with the above parameters. Let's make it our optimised_model."
   ]
  },
  {
   "cell_type": "code",
   "execution_count": 61,
   "id": "429c5764",
   "metadata": {},
   "outputs": [
    {
     "name": "stdout",
     "output_type": "stream",
     "text": [
      "Baseline Logistic Regression AUC score:  0.3478094640956113\n",
      "Baseline SGD AUC score:  0.45599034486810286\n",
      "Baseline SVC AUC score:  0.5415979486389931\n",
      "Our optimised Models score:  0.8786035814745448\n"
     ]
    }
   ],
   "source": [
    "optimised_model = search.best_estimator_\n",
    "\n",
    "optimised_model_cv = cross_validate(optimised_model, X_train, y_train, cv=10, scoring='roc_auc', n_jobs=-1)\n",
    "optimised_model_Score = optimised_model_cv['test_score'].mean()\n",
    "\n",
    "print('Baseline Logistic Regression AUC score: ', base_LG_score)\n",
    "print('Baseline SGD AUC score: ', base_SGD_score)\n",
    "print('Baseline SVC AUC score: ', base_SVC_score)\n",
    "print('Our optimised Models score: ', optimised_model_Score)"
   ]
  },
  {
   "cell_type": "markdown",
   "id": "d09f7ddc",
   "metadata": {},
   "source": [
    "As we can see, our optimised model does have a significantly higher score. We can try to make it even better now. \n",
    "\n",
    "We know that the estimated diameters had correlation so let's try to use PCA on the scaled parameters to see if by removing the correlation our model scores better."
   ]
  },
  {
   "cell_type": "code",
   "execution_count": 62,
   "id": "44982f91",
   "metadata": {},
   "outputs": [],
   "source": [
    "from sklearn.decomposition import PCA\n",
    "\n",
    "pca = PCA(n_components=5)\n",
    "\n",
    "pipeline_with_pca = Pipeline(([('Preprocessing', Preproc), ('PCA', pca), ('Classification', \n",
    "                                                                          SGDClassifier(alpha=0.0001,\n",
    "                                                                          learning_rate= 'optimal',\n",
    "                                                                          penalty = 'l2', \n",
    "                                                                          loss='log_loss', \n",
    "                                                                          random_state=42))]))"
   ]
  },
  {
   "cell_type": "code",
   "execution_count": 32,
   "id": "b45439e2",
   "metadata": {},
   "outputs": [
    {
     "name": "stdout",
     "output_type": "stream",
     "text": [
      "Baseline Logistic Regression AUC score:  0.3478094640956113\n",
      "Baseline SGD AUC score:  0.45599034486810286\n",
      "Baseline SVC AUC score:  0.5415979486389931\n",
      "Our optimised Models score:  0.8786035814745448\n",
      "Our optimised Models with PCA score:  0.8766820765218835\n"
     ]
    }
   ],
   "source": [
    "cv_with_PCA = cross_validate(pipeline_with_pca, X_train, y_train, cv=10, scoring='roc_auc', n_jobs=-1)\n",
    "cv_with_PCA_Score = cv_with_PCA['test_score'].mean()\n",
    "print('Baseline Logistic Regression AUC score: ', base_LG_score)\n",
    "print('Baseline SGD AUC score: ', base_SGD_score)\n",
    "print('Baseline SVC AUC score: ', base_SVC_score)\n",
    "print('Our optimised Models score: ', optimised_model_Score)\n",
    "print('Our optimised Models with PCA score: ', cv_with_PCA_Score)\n"
   ]
  },
  {
   "cell_type": "markdown",
   "id": "d20392f3",
   "metadata": {},
   "source": [
    "The removal of the correlation with pca seems to decrease the final score, probably because we dont have a big number of features."
   ]
  },
  {
   "cell_type": "markdown",
   "id": "9ef5ee3e",
   "metadata": {},
   "source": [
    "We could possibly try doing some feature engineering and add the min-max estimations together, but to try later.\n",
    "To try later also is the balancing of the dataset.\n",
    "\n",
    "For now our final model would be the one predicted by our gridsearch.\n",
    "\n",
    "\n",
    "Let's see how it does on predicting our y_test"
   ]
  },
  {
   "cell_type": "code",
   "execution_count": 64,
   "id": "78655f9f",
   "metadata": {},
   "outputs": [
    {
     "name": "stdout",
     "output_type": "stream",
     "text": [
      "              precision    recall  f1-score   support\n",
      "\n",
      "       False       0.91      0.98      0.95      2477\n",
      "        True       0.27      0.07      0.11       248\n",
      "\n",
      "    accuracy                           0.90      2725\n",
      "   macro avg       0.59      0.52      0.53      2725\n",
      "weighted avg       0.85      0.90      0.87      2725\n",
      "\n",
      "0.5247869105447537\n"
     ]
    }
   ],
   "source": [
    "Let's see how it does on predicting our y_test\n",
    "from sklearn.metrics import classification_report, roc_auc_score\n",
    "\n",
    "print(classification_report(y_test,optimised_model.predict(X_test)))\n",
    "print(roc_auc_score(y_test, optimised_model.predict(X_test)))\n"
   ]
  },
  {
   "cell_type": "markdown",
   "id": "d52d9f74",
   "metadata": {},
   "source": [
    "- We can see from this that our optimised model has a AUC score of only 53%. Which is quite dissapointing. However I think I know why this is. \n",
    "## It is because we have not balanced out our dataset\n",
    "\n",
    "\n",
    "- Let's do this now using the over-sampling method: "
   ]
  },
  {
   "cell_type": "code",
   "execution_count": 65,
   "id": "2f29648b",
   "metadata": {},
   "outputs": [],
   "source": [
    "from imblearn.over_sampling import SMOTE \n",
    "\n",
    "sm = SMOTE(k_neighbors=5,random_state = 100) \n",
    "X_train_res, y_train_res = sm.fit_resample(X_train, y_train)"
   ]
  },
  {
   "cell_type": "markdown",
   "id": "dcb28d31",
   "metadata": {},
   "source": [
    "Let's now see if our dataset is more balanced: "
   ]
  },
  {
   "cell_type": "code",
   "execution_count": 66,
   "id": "ecc2cb8f",
   "metadata": {},
   "outputs": [
    {
     "data": {
      "text/plain": [
       "False    5770\n",
       "True     5770\n",
       "Name: hazardous, dtype: int64"
      ]
     },
     "execution_count": 66,
     "metadata": {},
     "output_type": "execute_result"
    }
   ],
   "source": [
    "y_train_res.value_counts()"
   ]
  },
  {
   "cell_type": "markdown",
   "id": "02c8994f",
   "metadata": {},
   "source": [
    "Great now our dataset is balanced. Let's now conduct our analysis again: "
   ]
  },
  {
   "cell_type": "code",
   "execution_count": 67,
   "id": "2ef1d296",
   "metadata": {},
   "outputs": [
    {
     "name": "stdout",
     "output_type": "stream",
     "text": [
      "Baseline Logistic Regression AUC score:  0.6202367471743224\n",
      "Baseline SGD AUC score:  0.5588527884323685\n",
      "Baseline SVC AUC score:  0.5751346383162776\n"
     ]
    }
   ],
   "source": [
    "from sklearn.linear_model import LogisticRegression, SGDClassifier\n",
    "from sklearn.model_selection import cross_validate\n",
    "from sklearn.svm import SVC\n",
    "from sklearn.metrics import auc\n",
    "\n",
    "base_Log_regression_model = LogisticRegression(max_iter=1000, random_state=42)\n",
    "base_SGD_model = SGDClassifier(random_state=42)\n",
    "base_SVC_model = SVC(random_state=42)\n",
    "\n",
    "cv_base_LG = cross_validate(base_Log_regression_model, X_train_res, y_train_res, cv=10, n_jobs=-1, scoring='roc_auc')\n",
    "cv_base_SGD = cross_validate(base_SGD_model, X_train_res, y_train_res, cv=10, n_jobs=-1, scoring='roc_auc')\n",
    "cv_base_SVC = cross_validate(base_SVC_model, X_train_res, y_train_res, cv=10, n_jobs=-1, scoring='roc_auc')\n",
    "\n",
    "base_LG_score = cv_base_LG['test_score'].mean()\n",
    "base_SGD_score = cv_base_SGD['test_score'].mean()\n",
    "base_SVC_score = cv_base_SVC['test_score'].mean()\n",
    "\n",
    "print('Baseline Logistic Regression AUC score: ', base_LG_score)\n",
    "print('Baseline SGD AUC score: ', base_SGD_score)\n",
    "print('Baseline SVC AUC score: ', base_SVC_score)"
   ]
  },
  {
   "cell_type": "markdown",
   "id": "009f0015",
   "metadata": {},
   "source": [
    "- Unlike with the imbalanced dataset, the logistic regression model seems to perform better here. Let's Continue and check the models with the optimised pipeline we developped and then check for the most effective model with our grid-search:"
   ]
  },
  {
   "cell_type": "code",
   "execution_count": 68,
   "id": "78259374",
   "metadata": {},
   "outputs": [
    {
     "name": "stdout",
     "output_type": "stream",
     "text": [
      "Optimised Logistic regression AUC score:  0.9067422783836794\n"
     ]
    }
   ],
   "source": [
    "cv_test = cross_validate(Pipeline_with_models, X_train_res, y_train_res, cv=5, n_jobs=-1, scoring='roc_auc')\n",
    "cv_test_score = cv_test['test_score'].mean()\n",
    "print('Optimised Logistic regression AUC score: ', cv_test_score)"
   ]
  },
  {
   "cell_type": "markdown",
   "id": "6d12cb6f",
   "metadata": {},
   "source": [
    "We can see that our optimisation has increased our model significantly by around 27%. Let's conduct a gridsearch to see which model performs better with the same grid as we used previously."
   ]
  },
  {
   "cell_type": "code",
   "execution_count": 71,
   "id": "033cb9db",
   "metadata": {},
   "outputs": [
    {
     "data": {
      "text/html": [
       "<style>#sk-container-id-6 {color: black;background-color: white;}#sk-container-id-6 pre{padding: 0;}#sk-container-id-6 div.sk-toggleable {background-color: white;}#sk-container-id-6 label.sk-toggleable__label {cursor: pointer;display: block;width: 100%;margin-bottom: 0;padding: 0.3em;box-sizing: border-box;text-align: center;}#sk-container-id-6 label.sk-toggleable__label-arrow:before {content: \"▸\";float: left;margin-right: 0.25em;color: #696969;}#sk-container-id-6 label.sk-toggleable__label-arrow:hover:before {color: black;}#sk-container-id-6 div.sk-estimator:hover label.sk-toggleable__label-arrow:before {color: black;}#sk-container-id-6 div.sk-toggleable__content {max-height: 0;max-width: 0;overflow: hidden;text-align: left;background-color: #f0f8ff;}#sk-container-id-6 div.sk-toggleable__content pre {margin: 0.2em;color: black;border-radius: 0.25em;background-color: #f0f8ff;}#sk-container-id-6 input.sk-toggleable__control:checked~div.sk-toggleable__content {max-height: 200px;max-width: 100%;overflow: auto;}#sk-container-id-6 input.sk-toggleable__control:checked~label.sk-toggleable__label-arrow:before {content: \"▾\";}#sk-container-id-6 div.sk-estimator input.sk-toggleable__control:checked~label.sk-toggleable__label {background-color: #d4ebff;}#sk-container-id-6 div.sk-label input.sk-toggleable__control:checked~label.sk-toggleable__label {background-color: #d4ebff;}#sk-container-id-6 input.sk-hidden--visually {border: 0;clip: rect(1px 1px 1px 1px);clip: rect(1px, 1px, 1px, 1px);height: 1px;margin: -1px;overflow: hidden;padding: 0;position: absolute;width: 1px;}#sk-container-id-6 div.sk-estimator {font-family: monospace;background-color: #f0f8ff;border: 1px dotted black;border-radius: 0.25em;box-sizing: border-box;margin-bottom: 0.5em;}#sk-container-id-6 div.sk-estimator:hover {background-color: #d4ebff;}#sk-container-id-6 div.sk-parallel-item::after {content: \"\";width: 100%;border-bottom: 1px solid gray;flex-grow: 1;}#sk-container-id-6 div.sk-label:hover label.sk-toggleable__label {background-color: #d4ebff;}#sk-container-id-6 div.sk-serial::before {content: \"\";position: absolute;border-left: 1px solid gray;box-sizing: border-box;top: 0;bottom: 0;left: 50%;z-index: 0;}#sk-container-id-6 div.sk-serial {display: flex;flex-direction: column;align-items: center;background-color: white;padding-right: 0.2em;padding-left: 0.2em;position: relative;}#sk-container-id-6 div.sk-item {position: relative;z-index: 1;}#sk-container-id-6 div.sk-parallel {display: flex;align-items: stretch;justify-content: center;background-color: white;position: relative;}#sk-container-id-6 div.sk-item::before, #sk-container-id-6 div.sk-parallel-item::before {content: \"\";position: absolute;border-left: 1px solid gray;box-sizing: border-box;top: 0;bottom: 0;left: 50%;z-index: -1;}#sk-container-id-6 div.sk-parallel-item {display: flex;flex-direction: column;z-index: 1;position: relative;background-color: white;}#sk-container-id-6 div.sk-parallel-item:first-child::after {align-self: flex-end;width: 50%;}#sk-container-id-6 div.sk-parallel-item:last-child::after {align-self: flex-start;width: 50%;}#sk-container-id-6 div.sk-parallel-item:only-child::after {width: 0;}#sk-container-id-6 div.sk-dashed-wrapped {border: 1px dashed gray;margin: 0 0.4em 0.5em 0.4em;box-sizing: border-box;padding-bottom: 0.4em;background-color: white;}#sk-container-id-6 div.sk-label label {font-family: monospace;font-weight: bold;display: inline-block;line-height: 1.2em;}#sk-container-id-6 div.sk-label-container {text-align: center;}#sk-container-id-6 div.sk-container {/* jupyter's `normalize.less` sets `[hidden] { display: none; }` but bootstrap.min.css set `[hidden] { display: none !important; }` so we also need the `!important` here to be able to override the default hidden behavior on the sphinx rendered scikit-learn.org. See: https://github.com/scikit-learn/scikit-learn/issues/21755 */display: inline-block !important;position: relative;}#sk-container-id-6 div.sk-text-repr-fallback {display: none;}</style><div id=\"sk-container-id-6\" class=\"sk-top-container\"><div class=\"sk-text-repr-fallback\"><pre>GridSearchCV(cv=10,\n",
       "             estimator=Pipeline(steps=[(&#x27;Preprocessing&#x27;,\n",
       "                                        ColumnTransformer(transformers=[(&#x27;functiontransformer&#x27;,\n",
       "                                                                         FunctionTransformer(func=&lt;function &lt;lambda&gt; at 0x7fbfe58f2170&gt;),\n",
       "                                                                         [&#x27;est_diameter_min&#x27;,\n",
       "                                                                          &#x27;est_diameter_min&#x27;]),\n",
       "                                                                        (&#x27;robustscaler&#x27;,\n",
       "                                                                         RobustScaler(),\n",
       "                                                                         [&#x27;absolute_magnitude&#x27;,\n",
       "                                                                          &#x27;relative_velocity&#x27;]),\n",
       "                                                                        (&#x27;minmaxscaler&#x27;,\n",
       "                                                                         MinMaxScaler(),\n",
       "                                                                         [&#x27;miss_distance&#x27;])])),\n",
       "                                       (&#x27;C...\n",
       "                                                       loss=&#x27;log_loss&#x27;,\n",
       "                                                       random_state=42)],\n",
       "                          &#x27;Classifier__alpha&#x27;: [0.0001, 0.001, 0.01, 0.1],\n",
       "                          &#x27;Classifier__learning_rate&#x27;: [&#x27;optimal&#x27;, &#x27;adaptive&#x27;],\n",
       "                          &#x27;Classifier__loss&#x27;: [&#x27;hinge&#x27;, &#x27;log_loss&#x27;],\n",
       "                          &#x27;Classifier__penalty&#x27;: [&#x27;l1&#x27;, &#x27;l2&#x27;]},\n",
       "                         {&#x27;Classifier&#x27;: [SVC(random_state=42)],\n",
       "                          &#x27;Classifier__C&#x27;: [0.001, 0.01, 0.1, 1],\n",
       "                          &#x27;Classifier__kernel&#x27;: [&#x27;linear&#x27;, &#x27;poly&#x27;, &#x27;rbf&#x27;,\n",
       "                                                 &#x27;sigmoid&#x27;]}],\n",
       "             scoring=&#x27;roc_auc&#x27;)</pre><b>In a Jupyter environment, please rerun this cell to show the HTML representation or trust the notebook. <br />On GitHub, the HTML representation is unable to render, please try loading this page with nbviewer.org.</b></div><div class=\"sk-container\" hidden><div class=\"sk-item sk-dashed-wrapped\"><div class=\"sk-label-container\"><div class=\"sk-label sk-toggleable\"><input class=\"sk-toggleable__control sk-hidden--visually\" id=\"sk-estimator-id-51\" type=\"checkbox\" ><label for=\"sk-estimator-id-51\" class=\"sk-toggleable__label sk-toggleable__label-arrow\">GridSearchCV</label><div class=\"sk-toggleable__content\"><pre>GridSearchCV(cv=10,\n",
       "             estimator=Pipeline(steps=[(&#x27;Preprocessing&#x27;,\n",
       "                                        ColumnTransformer(transformers=[(&#x27;functiontransformer&#x27;,\n",
       "                                                                         FunctionTransformer(func=&lt;function &lt;lambda&gt; at 0x7fbfe58f2170&gt;),\n",
       "                                                                         [&#x27;est_diameter_min&#x27;,\n",
       "                                                                          &#x27;est_diameter_min&#x27;]),\n",
       "                                                                        (&#x27;robustscaler&#x27;,\n",
       "                                                                         RobustScaler(),\n",
       "                                                                         [&#x27;absolute_magnitude&#x27;,\n",
       "                                                                          &#x27;relative_velocity&#x27;]),\n",
       "                                                                        (&#x27;minmaxscaler&#x27;,\n",
       "                                                                         MinMaxScaler(),\n",
       "                                                                         [&#x27;miss_distance&#x27;])])),\n",
       "                                       (&#x27;C...\n",
       "                                                       loss=&#x27;log_loss&#x27;,\n",
       "                                                       random_state=42)],\n",
       "                          &#x27;Classifier__alpha&#x27;: [0.0001, 0.001, 0.01, 0.1],\n",
       "                          &#x27;Classifier__learning_rate&#x27;: [&#x27;optimal&#x27;, &#x27;adaptive&#x27;],\n",
       "                          &#x27;Classifier__loss&#x27;: [&#x27;hinge&#x27;, &#x27;log_loss&#x27;],\n",
       "                          &#x27;Classifier__penalty&#x27;: [&#x27;l1&#x27;, &#x27;l2&#x27;]},\n",
       "                         {&#x27;Classifier&#x27;: [SVC(random_state=42)],\n",
       "                          &#x27;Classifier__C&#x27;: [0.001, 0.01, 0.1, 1],\n",
       "                          &#x27;Classifier__kernel&#x27;: [&#x27;linear&#x27;, &#x27;poly&#x27;, &#x27;rbf&#x27;,\n",
       "                                                 &#x27;sigmoid&#x27;]}],\n",
       "             scoring=&#x27;roc_auc&#x27;)</pre></div></div></div><div class=\"sk-parallel\"><div class=\"sk-parallel-item\"><div class=\"sk-item\"><div class=\"sk-label-container\"><div class=\"sk-label sk-toggleable\"><input class=\"sk-toggleable__control sk-hidden--visually\" id=\"sk-estimator-id-52\" type=\"checkbox\" ><label for=\"sk-estimator-id-52\" class=\"sk-toggleable__label sk-toggleable__label-arrow\">estimator: Pipeline</label><div class=\"sk-toggleable__content\"><pre>Pipeline(steps=[(&#x27;Preprocessing&#x27;,\n",
       "                 ColumnTransformer(transformers=[(&#x27;functiontransformer&#x27;,\n",
       "                                                  FunctionTransformer(func=&lt;function &lt;lambda&gt; at 0x7fbfe58f2170&gt;),\n",
       "                                                  [&#x27;est_diameter_min&#x27;,\n",
       "                                                   &#x27;est_diameter_min&#x27;]),\n",
       "                                                 (&#x27;robustscaler&#x27;,\n",
       "                                                  RobustScaler(),\n",
       "                                                  [&#x27;absolute_magnitude&#x27;,\n",
       "                                                   &#x27;relative_velocity&#x27;]),\n",
       "                                                 (&#x27;minmaxscaler&#x27;,\n",
       "                                                  MinMaxScaler(),\n",
       "                                                  [&#x27;miss_distance&#x27;])])),\n",
       "                (&#x27;Classifier&#x27;, SGDClassifier())])</pre></div></div></div><div class=\"sk-serial\"><div class=\"sk-item\"><div class=\"sk-serial\"><div class=\"sk-item sk-dashed-wrapped\"><div class=\"sk-label-container\"><div class=\"sk-label sk-toggleable\"><input class=\"sk-toggleable__control sk-hidden--visually\" id=\"sk-estimator-id-53\" type=\"checkbox\" ><label for=\"sk-estimator-id-53\" class=\"sk-toggleable__label sk-toggleable__label-arrow\">Preprocessing: ColumnTransformer</label><div class=\"sk-toggleable__content\"><pre>ColumnTransformer(transformers=[(&#x27;functiontransformer&#x27;,\n",
       "                                 FunctionTransformer(func=&lt;function &lt;lambda&gt; at 0x7fbfe58f2170&gt;),\n",
       "                                 [&#x27;est_diameter_min&#x27;, &#x27;est_diameter_min&#x27;]),\n",
       "                                (&#x27;robustscaler&#x27;, RobustScaler(),\n",
       "                                 [&#x27;absolute_magnitude&#x27;, &#x27;relative_velocity&#x27;]),\n",
       "                                (&#x27;minmaxscaler&#x27;, MinMaxScaler(),\n",
       "                                 [&#x27;miss_distance&#x27;])])</pre></div></div></div><div class=\"sk-parallel\"><div class=\"sk-parallel-item\"><div class=\"sk-item\"><div class=\"sk-label-container\"><div class=\"sk-label sk-toggleable\"><input class=\"sk-toggleable__control sk-hidden--visually\" id=\"sk-estimator-id-54\" type=\"checkbox\" ><label for=\"sk-estimator-id-54\" class=\"sk-toggleable__label sk-toggleable__label-arrow\">functiontransformer</label><div class=\"sk-toggleable__content\"><pre>[&#x27;est_diameter_min&#x27;, &#x27;est_diameter_min&#x27;]</pre></div></div></div><div class=\"sk-serial\"><div class=\"sk-item\"><div class=\"sk-estimator sk-toggleable\"><input class=\"sk-toggleable__control sk-hidden--visually\" id=\"sk-estimator-id-55\" type=\"checkbox\" ><label for=\"sk-estimator-id-55\" class=\"sk-toggleable__label sk-toggleable__label-arrow\">FunctionTransformer</label><div class=\"sk-toggleable__content\"><pre>FunctionTransformer(func=&lt;function &lt;lambda&gt; at 0x7fbfe58f2170&gt;)</pre></div></div></div></div></div></div><div class=\"sk-parallel-item\"><div class=\"sk-item\"><div class=\"sk-label-container\"><div class=\"sk-label sk-toggleable\"><input class=\"sk-toggleable__control sk-hidden--visually\" id=\"sk-estimator-id-56\" type=\"checkbox\" ><label for=\"sk-estimator-id-56\" class=\"sk-toggleable__label sk-toggleable__label-arrow\">robustscaler</label><div class=\"sk-toggleable__content\"><pre>[&#x27;absolute_magnitude&#x27;, &#x27;relative_velocity&#x27;]</pre></div></div></div><div class=\"sk-serial\"><div class=\"sk-item\"><div class=\"sk-estimator sk-toggleable\"><input class=\"sk-toggleable__control sk-hidden--visually\" id=\"sk-estimator-id-57\" type=\"checkbox\" ><label for=\"sk-estimator-id-57\" class=\"sk-toggleable__label sk-toggleable__label-arrow\">RobustScaler</label><div class=\"sk-toggleable__content\"><pre>RobustScaler()</pre></div></div></div></div></div></div><div class=\"sk-parallel-item\"><div class=\"sk-item\"><div class=\"sk-label-container\"><div class=\"sk-label sk-toggleable\"><input class=\"sk-toggleable__control sk-hidden--visually\" id=\"sk-estimator-id-58\" type=\"checkbox\" ><label for=\"sk-estimator-id-58\" class=\"sk-toggleable__label sk-toggleable__label-arrow\">minmaxscaler</label><div class=\"sk-toggleable__content\"><pre>[&#x27;miss_distance&#x27;]</pre></div></div></div><div class=\"sk-serial\"><div class=\"sk-item\"><div class=\"sk-estimator sk-toggleable\"><input class=\"sk-toggleable__control sk-hidden--visually\" id=\"sk-estimator-id-59\" type=\"checkbox\" ><label for=\"sk-estimator-id-59\" class=\"sk-toggleable__label sk-toggleable__label-arrow\">MinMaxScaler</label><div class=\"sk-toggleable__content\"><pre>MinMaxScaler()</pre></div></div></div></div></div></div></div></div><div class=\"sk-item\"><div class=\"sk-estimator sk-toggleable\"><input class=\"sk-toggleable__control sk-hidden--visually\" id=\"sk-estimator-id-60\" type=\"checkbox\" ><label for=\"sk-estimator-id-60\" class=\"sk-toggleable__label sk-toggleable__label-arrow\">SGDClassifier</label><div class=\"sk-toggleable__content\"><pre>SGDClassifier()</pre></div></div></div></div></div></div></div></div></div></div></div></div>"
      ],
      "text/plain": [
       "GridSearchCV(cv=10,\n",
       "             estimator=Pipeline(steps=[('Preprocessing',\n",
       "                                        ColumnTransformer(transformers=[('functiontransformer',\n",
       "                                                                         FunctionTransformer(func=<function <lambda> at 0x7fbfe58f2170>),\n",
       "                                                                         ['est_diameter_min',\n",
       "                                                                          'est_diameter_min']),\n",
       "                                                                        ('robustscaler',\n",
       "                                                                         RobustScaler(),\n",
       "                                                                         ['absolute_magnitude',\n",
       "                                                                          'relative_velocity']),\n",
       "                                                                        ('minmaxscaler',\n",
       "                                                                         MinMaxScaler(),\n",
       "                                                                         ['miss_distance'])])),\n",
       "                                       ('C...\n",
       "                                                       loss='log_loss',\n",
       "                                                       random_state=42)],\n",
       "                          'Classifier__alpha': [0.0001, 0.001, 0.01, 0.1],\n",
       "                          'Classifier__learning_rate': ['optimal', 'adaptive'],\n",
       "                          'Classifier__loss': ['hinge', 'log_loss'],\n",
       "                          'Classifier__penalty': ['l1', 'l2']},\n",
       "                         {'Classifier': [SVC(random_state=42)],\n",
       "                          'Classifier__C': [0.001, 0.01, 0.1, 1],\n",
       "                          'Classifier__kernel': ['linear', 'poly', 'rbf',\n",
       "                                                 'sigmoid']}],\n",
       "             scoring='roc_auc')"
      ]
     },
     "execution_count": 71,
     "metadata": {},
     "output_type": "execute_result"
    }
   ],
   "source": [
    "search_2 = GridSearchCV(Pipeline_with_models, grid, cv=10, scoring='roc_auc' , n_jobs=-1)\n",
    "search_2.fit(X_train_res, y_train_res)"
   ]
  },
  {
   "cell_type": "code",
   "execution_count": 72,
   "id": "5cc3de1c",
   "metadata": {},
   "outputs": [
    {
     "data": {
      "text/plain": [
       "0.9400343616807187"
      ]
     },
     "execution_count": 72,
     "metadata": {},
     "output_type": "execute_result"
    }
   ],
   "source": [
    "search_2.best_score_"
   ]
  },
  {
   "cell_type": "code",
   "execution_count": 73,
   "id": "34c63354",
   "metadata": {},
   "outputs": [
    {
     "data": {
      "text/plain": [
       "{'Classifier': LogisticRegression(C=1, max_iter=5000, penalty='l1', random_state=42,\n",
       "                    solver='saga'),\n",
       " 'Classifier__C': 1,\n",
       " 'Classifier__class_weight': None,\n",
       " 'Classifier__penalty': 'l1',\n",
       " 'Classifier__solver': 'saga'}"
      ]
     },
     "execution_count": 73,
     "metadata": {},
     "output_type": "execute_result"
    }
   ],
   "source": [
    "search_2.best_params_"
   ]
  },
  {
   "cell_type": "markdown",
   "id": "113c9a34",
   "metadata": {},
   "source": [
    "Our Best Model seems to be the Logistic Regression with the above parameters. Let's make it our optimised_model."
   ]
  },
  {
   "cell_type": "code",
   "execution_count": 75,
   "id": "a4adc2d2",
   "metadata": {},
   "outputs": [
    {
     "name": "stdout",
     "output_type": "stream",
     "text": [
      "The following scores are after balancing the dataset:\n",
      "\n",
      "Baseline Logistic Regression AUC score:  0.6202367471743224\n",
      "Baseline SGD AUC score:  0.5588527884323685\n",
      "Baseline SVC AUC score:  0.5751346383162776\n",
      "Our optimised Models score:  0.9400343616807187\n"
     ]
    }
   ],
   "source": [
    "optimised_model = search_2.best_estimator_\n",
    "\n",
    "optimised_model_cv = cross_validate(optimised_model, X_train_res, y_train_res, cv=10, scoring='roc_auc', n_jobs=-1)\n",
    "optimised_model_Score = optimised_model_cv['test_score'].mean()\n",
    "\n",
    "print('The following scores are after balancing the dataset:')\n",
    "print()\n",
    "print('Baseline Logistic Regression AUC score: ', base_LG_score)\n",
    "print('Baseline SGD AUC score: ', base_SGD_score)\n",
    "print('Baseline SVC AUC score: ', base_SVC_score)\n",
    "print('Our optimised Models score: ', optimised_model_Score)"
   ]
  },
  {
   "cell_type": "markdown",
   "id": "8294cc36",
   "metadata": {},
   "source": [
    "As we can see, our optimised model does have a significantly higher score.\n",
    "\n",
    "Let's test out our PCA again to see if it does any better than with the imbalanced dataset: "
   ]
  },
  {
   "cell_type": "code",
   "execution_count": 76,
   "id": "3efed36f",
   "metadata": {},
   "outputs": [
    {
     "name": "stdout",
     "output_type": "stream",
     "text": [
      "The following scores are after balancing the dataset:\n",
      "\n",
      "Baseline Logistic Regression AUC score:  0.6202367471743224\n",
      "Baseline SGD AUC score:  0.5588527884323685\n",
      "Baseline SVC AUC score:  0.5751346383162776\n",
      "Our optimised Models score:  0.9400343616807187\n",
      "Our optimised Models with PCA score:  0.90467336879635\n"
     ]
    }
   ],
   "source": [
    "cv_with_PCA = cross_validate(pipeline_with_pca, X_train_res, y_train_res, cv=10, scoring='roc_auc', n_jobs=-1)\n",
    "cv_with_PCA_Score = cv_with_PCA['test_score'].mean()\n",
    "print('The following scores are after balancing the dataset:')\n",
    "print()\n",
    "print('Baseline Logistic Regression AUC score: ', base_LG_score)\n",
    "print('Baseline SGD AUC score: ', base_SGD_score)\n",
    "print('Baseline SVC AUC score: ', base_SVC_score)\n",
    "print('Our optimised Models score: ', optimised_model_Score)\n",
    "print('Our optimised Models with PCA score: ', cv_with_PCA_Score)\n"
   ]
  },
  {
   "cell_type": "markdown",
   "id": "23847290",
   "metadata": {},
   "source": [
    "The removal of the correlation with pca still seems to decrease the final score, for the same reasons - that we dont have a too large amount of features in our dataset, therefore we are not really removing anything from the curse of high dimensionality."
   ]
  },
  {
   "cell_type": "markdown",
   "id": "a710d5f0",
   "metadata": {},
   "source": [
    "Let's see how it does on predicting our y_test"
   ]
  },
  {
   "cell_type": "code",
   "execution_count": 77,
   "id": "bccdd109",
   "metadata": {},
   "outputs": [
    {
     "name": "stdout",
     "output_type": "stream",
     "text": [
      "              precision    recall  f1-score   support\n",
      "\n",
      "       False       0.95      0.85      0.90      2477\n",
      "        True       0.28      0.59      0.38       248\n",
      "\n",
      "    accuracy                           0.83      2725\n",
      "   macro avg       0.62      0.72      0.64      2725\n",
      "weighted avg       0.89      0.83      0.85      2725\n",
      "\n",
      "0.7190621459361611\n"
     ]
    }
   ],
   "source": [
    "from sklearn.metrics import classification_report, roc_auc_score\n",
    "\n",
    "print(classification_report(y_test,optimised_model.predict(X_test)))\n",
    "print(roc_auc_score(y_test, optimised_model.predict(X_test)))\n"
   ]
  },
  {
   "cell_type": "markdown",
   "id": "e63eddc0",
   "metadata": {},
   "source": [
    "We can see that we are getting a much higher score with our dataset having been rebalanced with over-sampling. This is great news. \n",
    "\n",
    "- Let's now train our model on the enterty of our data, and predict the the unknown asteroid data. Of course, we must not forget to balance our data the same way as previously."
   ]
  },
  {
   "cell_type": "code",
   "execution_count": 79,
   "id": "84196f89",
   "metadata": {},
   "outputs": [
    {
     "data": {
      "text/plain": [
       "False    8247\n",
       "True      836\n",
       "Name: hazardous, dtype: int64"
      ]
     },
     "execution_count": 79,
     "metadata": {},
     "output_type": "execute_result"
    }
   ],
   "source": [
    "y.value_counts()"
   ]
  },
  {
   "cell_type": "markdown",
   "id": "76359ac6",
   "metadata": {},
   "source": [
    "As we can see our data is quite imbalanced."
   ]
  },
  {
   "cell_type": "code",
   "execution_count": 80,
   "id": "c0e283c4",
   "metadata": {},
   "outputs": [],
   "source": [
    "from imblearn.over_sampling import SMOTE \n",
    "\n",
    "sm = SMOTE(k_neighbors=5,random_state = 100) \n",
    "X_balanced, y_balanced = sm.fit_resample(X, y)"
   ]
  },
  {
   "cell_type": "code",
   "execution_count": 81,
   "id": "d818f2dd",
   "metadata": {},
   "outputs": [
    {
     "data": {
      "text/plain": [
       "False    8247\n",
       "True     8247\n",
       "Name: hazardous, dtype: int64"
      ]
     },
     "execution_count": 81,
     "metadata": {},
     "output_type": "execute_result"
    }
   ],
   "source": [
    "y_balanced.value_counts()"
   ]
  },
  {
   "cell_type": "markdown",
   "id": "56199641",
   "metadata": {},
   "source": [
    "### Now our dataset is balanced:"
   ]
  },
  {
   "cell_type": "code",
   "execution_count": 82,
   "id": "e6f45899",
   "metadata": {},
   "outputs": [],
   "source": [
    "final_model = optimised_model.fit(X_balanced, y_balanced)\n",
    "\n",
    "unknown_data = pd.read_csv('unknown_asteroids.csv')\n",
    "unknown_data.drop(columns=['id', 'name', 'orbiting_body', 'sentry_object'], inplace=True)  # drop the not wanted features"
   ]
  },
  {
   "cell_type": "code",
   "execution_count": 84,
   "id": "22d8fac6",
   "metadata": {},
   "outputs": [],
   "source": [
    "prediction = pd.Series(final_model.predict(unknown_data)).apply(lambda x: 0 if x == False else 1)"
   ]
  },
  {
   "cell_type": "code",
   "execution_count": 85,
   "id": "d086bef3",
   "metadata": {},
   "outputs": [],
   "source": [
    "prediction.to_csv(path_or_buf= 'prediction', index=False)"
   ]
  },
  {
   "cell_type": "markdown",
   "id": "12996a15",
   "metadata": {},
   "source": [
    "### Below is an extra feature engineering step to try and remove the collinearity between the diameter_max and diameter_min by simply adding the 2 together"
   ]
  },
  {
   "cell_type": "code",
   "execution_count": 86,
   "id": "fb014ad6",
   "metadata": {},
   "outputs": [],
   "source": [
    "X_balanced['new_diameter'] = X_balanced['est_diameter_min'] + X_balanced['est_diameter_max']\n",
    "new_X = X_balanced.drop(columns=['est_diameter_min', 'est_diameter_max'])\n",
    "\n",
    "X_train1, X_test, y_train, y_test = train_test_split(X_balanced, y_balanced, train_size=0.7, random_state=42)"
   ]
  },
  {
   "cell_type": "code",
   "execution_count": 87,
   "id": "232185a2",
   "metadata": {},
   "outputs": [],
   "source": [
    "new_Preproc = make_column_transformer((Robust_Scale, ['absolute_magnitude', 'relative_velocity', 'new_diameter']), (MinMax_Scale, ['miss_distance']))\n",
    "new_Pipeline_with_models = Pipeline(([('Preprocessing', new_Preproc), ('Classification', \n",
    "                                                                          SGDClassifier(alpha=0.0001,\n",
    "                                                                          learning_rate= 'optimal',\n",
    "                                                                          penalty = 'l2', \n",
    "                                                                          loss='log_loss', \n",
    "                                                                          random_state=42))]))"
   ]
  },
  {
   "cell_type": "code",
   "execution_count": 88,
   "id": "0aea912c",
   "metadata": {},
   "outputs": [
    {
     "name": "stdout",
     "output_type": "stream",
     "text": [
      "Baseline Logistic Regression AUC score:  0.6202367471743224\n",
      "Baseline SGD AUC score:  0.5588527884323685\n",
      "Baseline SVC AUC score:  0.5751346383162776\n",
      "Our optimised Models score:  0.9400343616807187\n",
      "Our optimised Models with PCA score:  0.90467336879635\n",
      "Our optimised Models with feature engineering:  0.8776035365736821\n"
     ]
    }
   ],
   "source": [
    "cv_feature_engineered = cross_validate(new_Pipeline_with_models, X_train1, y_train, cv=10, scoring='roc_auc', n_jobs=-1)\n",
    "cv_feature_engineered_score = cv_feature_engineered['test_score'].mean()\n",
    "print('Baseline Logistic Regression AUC score: ', base_LG_score)\n",
    "print('Baseline SGD AUC score: ', base_SGD_score)\n",
    "print('Baseline SVC AUC score: ', base_SVC_score)\n",
    "print('Our optimised Models score: ', optimised_model_Score)\n",
    "print('Our optimised Models with PCA score: ', cv_with_PCA_Score)\n",
    "print('Our optimised Models with feature engineering: ', cv_feature_engineered_score)"
   ]
  },
  {
   "cell_type": "markdown",
   "id": "172fc130",
   "metadata": {},
   "source": [
    "- It seems that our feature Engineering has not braught a better AUC_ROC score so we will not be implementing it."
   ]
  },
  {
   "cell_type": "markdown",
   "id": "1a3f98b7",
   "metadata": {},
   "source": [
    "# Final Comments: \n",
    "\n",
    "- We couldv'e done a larger gridsearch with ensemble models and XGBoost and many more but I had no time to do so during the examination - I will potentially be doing this later when I have free time.\n",
    "\n",
    "\n",
    "- We also couldve added a simple imputer at the begining of our Pipeline to ensure there are no missing values in the future tests being done with our model or when we bring it to industry.\n",
    "\n",
    "\n",
    "- Import to check for if the dataset is balanced or not otherwise predictive models would not work as optimally as we would want them to."
   ]
  },
  {
   "cell_type": "markdown",
   "id": "3470fb47",
   "metadata": {},
   "source": [
    "# Further Developments"
   ]
  },
  {
   "cell_type": "markdown",
   "id": "17f0fdca",
   "metadata": {},
   "source": [
    "- Let's Check if the more modern models work better in this case with models such as RandomForest and XGBoost: "
   ]
  },
  {
   "cell_type": "markdown",
   "id": "ec9b3a90",
   "metadata": {},
   "source": [
    "These are the scores we are trying to match or beat:"
   ]
  },
  {
   "cell_type": "code",
   "execution_count": 91,
   "id": "e7b54da0",
   "metadata": {},
   "outputs": [
    {
     "name": "stdout",
     "output_type": "stream",
     "text": [
      "The following scores are after balancing the dataset:\n",
      "\n",
      "Baseline Logistic Regression AUC score:  0.6202367471743224\n",
      "Baseline SGD AUC score:  0.5588527884323685\n",
      "Baseline SVC AUC score:  0.5751346383162776\n",
      "Our optimised Models score:  0.9400343616807187\n",
      "Our optimised Models with PCA score:  0.90467336879635\n"
     ]
    }
   ],
   "source": [
    "print('The following scores are after balancing the dataset:')\n",
    "print()\n",
    "print('Baseline Logistic Regression AUC score: ', base_LG_score)\n",
    "print('Baseline SGD AUC score: ', base_SGD_score)\n",
    "print('Baseline SVC AUC score: ', base_SVC_score)\n",
    "print('Our optimised Models score: ', optimised_model_Score)\n",
    "print('Our optimised Models with PCA score: ', cv_with_PCA_Score)"
   ]
  },
  {
   "cell_type": "markdown",
   "id": "e05a5ad8",
   "metadata": {},
   "source": [
    "## K-Neighbours Classifier: "
   ]
  },
  {
   "cell_type": "code",
   "execution_count": 95,
   "id": "1f67b9de",
   "metadata": {},
   "outputs": [
    {
     "name": "stdout",
     "output_type": "stream",
     "text": [
      "Optimised Logistic regression AUC score:  0.9217614716651298\n"
     ]
    }
   ],
   "source": [
    "from sklearn.neighbors import KNeighborsClassifier\n",
    "\n",
    "Pipeline_with_KNC = Pipeline(([('Preprocessing', Preproc), ('Classifier', KNeighborsClassifier())]))\n",
    "\n",
    "cv_test_KNC = cross_validate(Pipeline_with_KNC, X_train_res, y_train_res, cv=5, n_jobs=-1, scoring='roc_auc')\n",
    "cv_test_score_KNC = cv_test_KNC['test_score'].mean()\n",
    "print('Optimised K-Neighbours AUC score: ', cv_test_score_KNC)"
   ]
  },
  {
   "cell_type": "markdown",
   "id": "acce1614",
   "metadata": {},
   "source": [
    "## Decision Tree Classifier: "
   ]
  },
  {
   "cell_type": "code",
   "execution_count": 101,
   "id": "0e2f1b6b",
   "metadata": {},
   "outputs": [
    {
     "name": "stdout",
     "output_type": "stream",
     "text": [
      "Optimised Logistic regression AUC score:  0.8977469670710573\n"
     ]
    }
   ],
   "source": [
    "from sklearn.tree import DecisionTreeClassifier\n",
    "\n",
    "Pipeline_with_DecisionTree = Pipeline(([('Preprocessing', Preproc), ('Classifier', DecisionTreeClassifier())]))\n",
    "\n",
    "cv_test_DT = cross_validate(Pipeline_with_DecisionTree, X_train_res, y_train_res, cv=5, n_jobs=-1, scoring='roc_auc')\n",
    "cv_test_score_DT = cv_test_DT['test_score'].mean()\n",
    "print('Optimised Decision Tree AUC score: ', cv_test_score_DT)"
   ]
  },
  {
   "cell_type": "markdown",
   "id": "9448d440",
   "metadata": {},
   "source": [
    "## Random Forest Classifier: "
   ]
  },
  {
   "cell_type": "code",
   "execution_count": 97,
   "id": "6077d59a",
   "metadata": {},
   "outputs": [
    {
     "name": "stdout",
     "output_type": "stream",
     "text": [
      "Optimised Logistic regression AUC score:  0.9797815750505363\n"
     ]
    }
   ],
   "source": [
    "from sklearn.ensemble import RandomForestClassifier\n",
    "\n",
    "\n",
    "Pipeline_with_RandomForest = Pipeline(([('Preprocessing', Preproc), ('Classifier', RandomForestClassifier())]))\n",
    "\n",
    "cv_test_RF = cross_validate(Pipeline_with_RandomForest, X_train_res, y_train_res, cv=5, n_jobs=-1, scoring='roc_auc')\n",
    "cv_test_score_RF = cv_test_RF['test_score'].mean()\n",
    "print('Optimised Random Forest AUC score: ', cv_test_score_RF)"
   ]
  },
  {
   "cell_type": "markdown",
   "id": "fb0b03e9",
   "metadata": {},
   "source": [
    "## XGBoost Classifier: "
   ]
  },
  {
   "cell_type": "code",
   "execution_count": 100,
   "id": "3de07e9f",
   "metadata": {},
   "outputs": [
    {
     "name": "stdout",
     "output_type": "stream",
     "text": [
      "Optimised Logistic regression AUC score:  0.9826622943630625\n"
     ]
    }
   ],
   "source": [
    "from xgboost import XGBClassifier\n",
    "\n",
    "\n",
    "Pipeline_with_XGB = Pipeline(([('Preprocessing', Preproc), ('Classifier', XGBClassifier())]))\n",
    "\n",
    "cv_test_XGB = cross_validate(Pipeline_with_XGB, X_train_res, y_train_res, cv=5, n_jobs=-1, scoring='roc_auc')\n",
    "cv_test_score_XGB = cv_test_XGB['test_score'].mean()\n",
    "print('Optimised XGBoost AUC score: ', cv_test_score_XGB)"
   ]
  },
  {
   "cell_type": "markdown",
   "id": "d731bf8b",
   "metadata": {},
   "source": [
    "### Great, we can see that the Random Forest and XGBoost performed better than our more classical models, no surprise. The Decision Tree and KNeighbours models worked less well. However no hyperparameter tuning was conducted on any of the models, which could be the reason the models are not performing better or as good as they could be.\n"
   ]
  },
  {
   "cell_type": "markdown",
   "id": "64b38d5a",
   "metadata": {},
   "source": [
    "- Let's now test our new models on the y_test to see how they perform: "
   ]
  },
  {
   "cell_type": "code",
   "execution_count": 106,
   "id": "e096d9e7",
   "metadata": {},
   "outputs": [
    {
     "name": "stdout",
     "output_type": "stream",
     "text": [
      "Original Score with Logistic Regression:  0.7124106294034146\n",
      "Original Score with KNC:  0.8246887493976844\n",
      "Original Score with Decision Trees:  0.7096163738653678\n",
      "Original Score with Random Forest:  0.7579961451808248\n",
      "Original Score with XGBoost:  0.7414756078502872\n"
     ]
    }
   ],
   "source": [
    "# Let's Train our models: \n",
    "Pipeline_with_KNC = Pipeline_with_KNC.fit(X_train_res, y_train_res)\n",
    "Pipeline_with_DecisionTree = Pipeline_with_DecisionTree.fit(X_train_res, y_train_res)\n",
    "Pipeline_with_RandomForest = Pipeline_with_RandomForest.fit(X_train_res, y_train_res)\n",
    "Pipeline_with_XGB = Pipeline_with_XGB.fit(X_train_res, y_train_res)\n",
    "\n",
    "\n",
    "print('Original Score with Logistic Regression: ', roc_auc_score(y_test, optimised_model.predict(X_test)))\n",
    "print('Original Score with KNC: ', roc_auc_score(y_test, Pipeline_with_KNC.predict(X_test)))\n",
    "print('Original Score with Decision Trees: ', roc_auc_score(y_test, Pipeline_with_DecisionTree.predict(X_test)))\n",
    "print('Original Score with Random Forest: ', roc_auc_score(y_test, Pipeline_with_RandomForest.predict(X_test)))\n",
    "print('Original Score with XGBoost: ', roc_auc_score(y_test, Pipeline_with_XGB.predict(X_test)))"
   ]
  },
  {
   "cell_type": "markdown",
   "id": "2032021b",
   "metadata": {},
   "source": [
    "## So from this, we can see that actually, it is the KNC which has the best predictive power, followed by Decision Trees. This is quite surprising as XGBoost is very powerful, Hyperparameter Tuning is needed so that our models generalise better. "
   ]
  },
  {
   "cell_type": "markdown",
   "id": "45b8c539",
   "metadata": {},
   "source": [
    "## Hyper Parameter Search: Would be good to do a Random Search but decided to just go with the classic Grid Search: \n",
    "\n",
    "### Took Well over 1 hour to train: "
   ]
  },
  {
   "cell_type": "code",
   "execution_count": 125,
   "id": "99bf560b",
   "metadata": {},
   "outputs": [
    {
     "name": "stdout",
     "output_type": "stream",
     "text": [
      "Fitting 5 folds for each of 306 candidates, totalling 1530 fits\n"
     ]
    },
    {
     "data": {
      "text/html": [
       "<style>#sk-container-id-8 {color: black;background-color: white;}#sk-container-id-8 pre{padding: 0;}#sk-container-id-8 div.sk-toggleable {background-color: white;}#sk-container-id-8 label.sk-toggleable__label {cursor: pointer;display: block;width: 100%;margin-bottom: 0;padding: 0.3em;box-sizing: border-box;text-align: center;}#sk-container-id-8 label.sk-toggleable__label-arrow:before {content: \"▸\";float: left;margin-right: 0.25em;color: #696969;}#sk-container-id-8 label.sk-toggleable__label-arrow:hover:before {color: black;}#sk-container-id-8 div.sk-estimator:hover label.sk-toggleable__label-arrow:before {color: black;}#sk-container-id-8 div.sk-toggleable__content {max-height: 0;max-width: 0;overflow: hidden;text-align: left;background-color: #f0f8ff;}#sk-container-id-8 div.sk-toggleable__content pre {margin: 0.2em;color: black;border-radius: 0.25em;background-color: #f0f8ff;}#sk-container-id-8 input.sk-toggleable__control:checked~div.sk-toggleable__content {max-height: 200px;max-width: 100%;overflow: auto;}#sk-container-id-8 input.sk-toggleable__control:checked~label.sk-toggleable__label-arrow:before {content: \"▾\";}#sk-container-id-8 div.sk-estimator input.sk-toggleable__control:checked~label.sk-toggleable__label {background-color: #d4ebff;}#sk-container-id-8 div.sk-label input.sk-toggleable__control:checked~label.sk-toggleable__label {background-color: #d4ebff;}#sk-container-id-8 input.sk-hidden--visually {border: 0;clip: rect(1px 1px 1px 1px);clip: rect(1px, 1px, 1px, 1px);height: 1px;margin: -1px;overflow: hidden;padding: 0;position: absolute;width: 1px;}#sk-container-id-8 div.sk-estimator {font-family: monospace;background-color: #f0f8ff;border: 1px dotted black;border-radius: 0.25em;box-sizing: border-box;margin-bottom: 0.5em;}#sk-container-id-8 div.sk-estimator:hover {background-color: #d4ebff;}#sk-container-id-8 div.sk-parallel-item::after {content: \"\";width: 100%;border-bottom: 1px solid gray;flex-grow: 1;}#sk-container-id-8 div.sk-label:hover label.sk-toggleable__label {background-color: #d4ebff;}#sk-container-id-8 div.sk-serial::before {content: \"\";position: absolute;border-left: 1px solid gray;box-sizing: border-box;top: 0;bottom: 0;left: 50%;z-index: 0;}#sk-container-id-8 div.sk-serial {display: flex;flex-direction: column;align-items: center;background-color: white;padding-right: 0.2em;padding-left: 0.2em;position: relative;}#sk-container-id-8 div.sk-item {position: relative;z-index: 1;}#sk-container-id-8 div.sk-parallel {display: flex;align-items: stretch;justify-content: center;background-color: white;position: relative;}#sk-container-id-8 div.sk-item::before, #sk-container-id-8 div.sk-parallel-item::before {content: \"\";position: absolute;border-left: 1px solid gray;box-sizing: border-box;top: 0;bottom: 0;left: 50%;z-index: -1;}#sk-container-id-8 div.sk-parallel-item {display: flex;flex-direction: column;z-index: 1;position: relative;background-color: white;}#sk-container-id-8 div.sk-parallel-item:first-child::after {align-self: flex-end;width: 50%;}#sk-container-id-8 div.sk-parallel-item:last-child::after {align-self: flex-start;width: 50%;}#sk-container-id-8 div.sk-parallel-item:only-child::after {width: 0;}#sk-container-id-8 div.sk-dashed-wrapped {border: 1px dashed gray;margin: 0 0.4em 0.5em 0.4em;box-sizing: border-box;padding-bottom: 0.4em;background-color: white;}#sk-container-id-8 div.sk-label label {font-family: monospace;font-weight: bold;display: inline-block;line-height: 1.2em;}#sk-container-id-8 div.sk-label-container {text-align: center;}#sk-container-id-8 div.sk-container {/* jupyter's `normalize.less` sets `[hidden] { display: none; }` but bootstrap.min.css set `[hidden] { display: none !important; }` so we also need the `!important` here to be able to override the default hidden behavior on the sphinx rendered scikit-learn.org. See: https://github.com/scikit-learn/scikit-learn/issues/21755 */display: inline-block !important;position: relative;}#sk-container-id-8 div.sk-text-repr-fallback {display: none;}</style><div id=\"sk-container-id-8\" class=\"sk-top-container\"><div class=\"sk-text-repr-fallback\"><pre>GridSearchCV(cv=5,\n",
       "             estimator=Pipeline(steps=[(&#x27;Preprocessing&#x27;,\n",
       "                                        ColumnTransformer(transformers=[(&#x27;functiontransformer&#x27;,\n",
       "                                                                         FunctionTransformer(func=&lt;function &lt;lambda&gt; at 0x7fbfe58f2170&gt;),\n",
       "                                                                         [&#x27;est_diameter_min&#x27;,\n",
       "                                                                          &#x27;est_diameter_min&#x27;]),\n",
       "                                                                        (&#x27;robustscaler&#x27;,\n",
       "                                                                         RobustScaler(),\n",
       "                                                                         [&#x27;absolute_magnitude&#x27;,\n",
       "                                                                          &#x27;relative_velocity&#x27;]),\n",
       "                                                                        (&#x27;minmaxscaler&#x27;,\n",
       "                                                                         MinMaxScaler(),\n",
       "                                                                         [&#x27;miss_distance&#x27;])])),\n",
       "                                       (&#x27;Cl...\n",
       "                          &#x27;Classifier__leaf_size&#x27;: [10, 20, 30],\n",
       "                          &#x27;Classifier__n_neighbors&#x27;: [3, 5, 10, 20],\n",
       "                          &#x27;Classifier__weights&#x27;: [&#x27;uniform&#x27;, &#x27;distance&#x27;]},\n",
       "                         {&#x27;Classifier&#x27;: [DecisionTreeClassifier(random_state=42)],\n",
       "                          &#x27;Classifier__criterion&#x27;: [&#x27;gini&#x27;, &#x27;entropy&#x27;,\n",
       "                                                    &#x27;log_loss&#x27;],\n",
       "                          &#x27;Classifier__min_impurity_decrease&#x27;: [0.0, 0.1, 0.5],\n",
       "                          &#x27;Classifier__splitter&#x27;: [&#x27;best&#x27;, &#x27;random&#x27;]}],\n",
       "             scoring=&#x27;roc_auc&#x27;, verbose=1)</pre><b>In a Jupyter environment, please rerun this cell to show the HTML representation or trust the notebook. <br />On GitHub, the HTML representation is unable to render, please try loading this page with nbviewer.org.</b></div><div class=\"sk-container\" hidden><div class=\"sk-item sk-dashed-wrapped\"><div class=\"sk-label-container\"><div class=\"sk-label sk-toggleable\"><input class=\"sk-toggleable__control sk-hidden--visually\" id=\"sk-estimator-id-71\" type=\"checkbox\" ><label for=\"sk-estimator-id-71\" class=\"sk-toggleable__label sk-toggleable__label-arrow\">GridSearchCV</label><div class=\"sk-toggleable__content\"><pre>GridSearchCV(cv=5,\n",
       "             estimator=Pipeline(steps=[(&#x27;Preprocessing&#x27;,\n",
       "                                        ColumnTransformer(transformers=[(&#x27;functiontransformer&#x27;,\n",
       "                                                                         FunctionTransformer(func=&lt;function &lt;lambda&gt; at 0x7fbfe58f2170&gt;),\n",
       "                                                                         [&#x27;est_diameter_min&#x27;,\n",
       "                                                                          &#x27;est_diameter_min&#x27;]),\n",
       "                                                                        (&#x27;robustscaler&#x27;,\n",
       "                                                                         RobustScaler(),\n",
       "                                                                         [&#x27;absolute_magnitude&#x27;,\n",
       "                                                                          &#x27;relative_velocity&#x27;]),\n",
       "                                                                        (&#x27;minmaxscaler&#x27;,\n",
       "                                                                         MinMaxScaler(),\n",
       "                                                                         [&#x27;miss_distance&#x27;])])),\n",
       "                                       (&#x27;Cl...\n",
       "                          &#x27;Classifier__leaf_size&#x27;: [10, 20, 30],\n",
       "                          &#x27;Classifier__n_neighbors&#x27;: [3, 5, 10, 20],\n",
       "                          &#x27;Classifier__weights&#x27;: [&#x27;uniform&#x27;, &#x27;distance&#x27;]},\n",
       "                         {&#x27;Classifier&#x27;: [DecisionTreeClassifier(random_state=42)],\n",
       "                          &#x27;Classifier__criterion&#x27;: [&#x27;gini&#x27;, &#x27;entropy&#x27;,\n",
       "                                                    &#x27;log_loss&#x27;],\n",
       "                          &#x27;Classifier__min_impurity_decrease&#x27;: [0.0, 0.1, 0.5],\n",
       "                          &#x27;Classifier__splitter&#x27;: [&#x27;best&#x27;, &#x27;random&#x27;]}],\n",
       "             scoring=&#x27;roc_auc&#x27;, verbose=1)</pre></div></div></div><div class=\"sk-parallel\"><div class=\"sk-parallel-item\"><div class=\"sk-item\"><div class=\"sk-label-container\"><div class=\"sk-label sk-toggleable\"><input class=\"sk-toggleable__control sk-hidden--visually\" id=\"sk-estimator-id-72\" type=\"checkbox\" ><label for=\"sk-estimator-id-72\" class=\"sk-toggleable__label sk-toggleable__label-arrow\">estimator: Pipeline</label><div class=\"sk-toggleable__content\"><pre>Pipeline(steps=[(&#x27;Preprocessing&#x27;,\n",
       "                 ColumnTransformer(transformers=[(&#x27;functiontransformer&#x27;,\n",
       "                                                  FunctionTransformer(func=&lt;function &lt;lambda&gt; at 0x7fbfe58f2170&gt;),\n",
       "                                                  [&#x27;est_diameter_min&#x27;,\n",
       "                                                   &#x27;est_diameter_min&#x27;]),\n",
       "                                                 (&#x27;robustscaler&#x27;,\n",
       "                                                  RobustScaler(),\n",
       "                                                  [&#x27;absolute_magnitude&#x27;,\n",
       "                                                   &#x27;relative_velocity&#x27;]),\n",
       "                                                 (&#x27;minmaxscaler&#x27;,\n",
       "                                                  MinMaxScaler(),\n",
       "                                                  [&#x27;miss_distance&#x27;])])),\n",
       "                (&#x27;Classifier&#x27;, SGDClassifier())])</pre></div></div></div><div class=\"sk-serial\"><div class=\"sk-item\"><div class=\"sk-serial\"><div class=\"sk-item sk-dashed-wrapped\"><div class=\"sk-label-container\"><div class=\"sk-label sk-toggleable\"><input class=\"sk-toggleable__control sk-hidden--visually\" id=\"sk-estimator-id-73\" type=\"checkbox\" ><label for=\"sk-estimator-id-73\" class=\"sk-toggleable__label sk-toggleable__label-arrow\">Preprocessing: ColumnTransformer</label><div class=\"sk-toggleable__content\"><pre>ColumnTransformer(transformers=[(&#x27;functiontransformer&#x27;,\n",
       "                                 FunctionTransformer(func=&lt;function &lt;lambda&gt; at 0x7fbfe58f2170&gt;),\n",
       "                                 [&#x27;est_diameter_min&#x27;, &#x27;est_diameter_min&#x27;]),\n",
       "                                (&#x27;robustscaler&#x27;, RobustScaler(),\n",
       "                                 [&#x27;absolute_magnitude&#x27;, &#x27;relative_velocity&#x27;]),\n",
       "                                (&#x27;minmaxscaler&#x27;, MinMaxScaler(),\n",
       "                                 [&#x27;miss_distance&#x27;])])</pre></div></div></div><div class=\"sk-parallel\"><div class=\"sk-parallel-item\"><div class=\"sk-item\"><div class=\"sk-label-container\"><div class=\"sk-label sk-toggleable\"><input class=\"sk-toggleable__control sk-hidden--visually\" id=\"sk-estimator-id-74\" type=\"checkbox\" ><label for=\"sk-estimator-id-74\" class=\"sk-toggleable__label sk-toggleable__label-arrow\">functiontransformer</label><div class=\"sk-toggleable__content\"><pre>[&#x27;est_diameter_min&#x27;, &#x27;est_diameter_min&#x27;]</pre></div></div></div><div class=\"sk-serial\"><div class=\"sk-item\"><div class=\"sk-estimator sk-toggleable\"><input class=\"sk-toggleable__control sk-hidden--visually\" id=\"sk-estimator-id-75\" type=\"checkbox\" ><label for=\"sk-estimator-id-75\" class=\"sk-toggleable__label sk-toggleable__label-arrow\">FunctionTransformer</label><div class=\"sk-toggleable__content\"><pre>FunctionTransformer(func=&lt;function &lt;lambda&gt; at 0x7fbfe58f2170&gt;)</pre></div></div></div></div></div></div><div class=\"sk-parallel-item\"><div class=\"sk-item\"><div class=\"sk-label-container\"><div class=\"sk-label sk-toggleable\"><input class=\"sk-toggleable__control sk-hidden--visually\" id=\"sk-estimator-id-76\" type=\"checkbox\" ><label for=\"sk-estimator-id-76\" class=\"sk-toggleable__label sk-toggleable__label-arrow\">robustscaler</label><div class=\"sk-toggleable__content\"><pre>[&#x27;absolute_magnitude&#x27;, &#x27;relative_velocity&#x27;]</pre></div></div></div><div class=\"sk-serial\"><div class=\"sk-item\"><div class=\"sk-estimator sk-toggleable\"><input class=\"sk-toggleable__control sk-hidden--visually\" id=\"sk-estimator-id-77\" type=\"checkbox\" ><label for=\"sk-estimator-id-77\" class=\"sk-toggleable__label sk-toggleable__label-arrow\">RobustScaler</label><div class=\"sk-toggleable__content\"><pre>RobustScaler()</pre></div></div></div></div></div></div><div class=\"sk-parallel-item\"><div class=\"sk-item\"><div class=\"sk-label-container\"><div class=\"sk-label sk-toggleable\"><input class=\"sk-toggleable__control sk-hidden--visually\" id=\"sk-estimator-id-78\" type=\"checkbox\" ><label for=\"sk-estimator-id-78\" class=\"sk-toggleable__label sk-toggleable__label-arrow\">minmaxscaler</label><div class=\"sk-toggleable__content\"><pre>[&#x27;miss_distance&#x27;]</pre></div></div></div><div class=\"sk-serial\"><div class=\"sk-item\"><div class=\"sk-estimator sk-toggleable\"><input class=\"sk-toggleable__control sk-hidden--visually\" id=\"sk-estimator-id-79\" type=\"checkbox\" ><label for=\"sk-estimator-id-79\" class=\"sk-toggleable__label sk-toggleable__label-arrow\">MinMaxScaler</label><div class=\"sk-toggleable__content\"><pre>MinMaxScaler()</pre></div></div></div></div></div></div></div></div><div class=\"sk-item\"><div class=\"sk-estimator sk-toggleable\"><input class=\"sk-toggleable__control sk-hidden--visually\" id=\"sk-estimator-id-80\" type=\"checkbox\" ><label for=\"sk-estimator-id-80\" class=\"sk-toggleable__label sk-toggleable__label-arrow\">SGDClassifier</label><div class=\"sk-toggleable__content\"><pre>SGDClassifier()</pre></div></div></div></div></div></div></div></div></div></div></div></div>"
      ],
      "text/plain": [
       "GridSearchCV(cv=5,\n",
       "             estimator=Pipeline(steps=[('Preprocessing',\n",
       "                                        ColumnTransformer(transformers=[('functiontransformer',\n",
       "                                                                         FunctionTransformer(func=<function <lambda> at 0x7fbfe58f2170>),\n",
       "                                                                         ['est_diameter_min',\n",
       "                                                                          'est_diameter_min']),\n",
       "                                                                        ('robustscaler',\n",
       "                                                                         RobustScaler(),\n",
       "                                                                         ['absolute_magnitude',\n",
       "                                                                          'relative_velocity']),\n",
       "                                                                        ('minmaxscaler',\n",
       "                                                                         MinMaxScaler(),\n",
       "                                                                         ['miss_distance'])])),\n",
       "                                       ('Cl...\n",
       "                          'Classifier__leaf_size': [10, 20, 30],\n",
       "                          'Classifier__n_neighbors': [3, 5, 10, 20],\n",
       "                          'Classifier__weights': ['uniform', 'distance']},\n",
       "                         {'Classifier': [DecisionTreeClassifier(random_state=42)],\n",
       "                          'Classifier__criterion': ['gini', 'entropy',\n",
       "                                                    'log_loss'],\n",
       "                          'Classifier__min_impurity_decrease': [0.0, 0.1, 0.5],\n",
       "                          'Classifier__splitter': ['best', 'random']}],\n",
       "             scoring='roc_auc', verbose=1)"
      ]
     },
     "execution_count": 125,
     "metadata": {},
     "output_type": "execute_result"
    }
   ],
   "source": [
    "grid_2 = [{'Classifier': [XGBClassifier(random_state=42)], \n",
    "           'Classifier__eval_metric':['mlogloss'],\n",
    "          'Classifier__n_estimators': [10, 50, 100],\n",
    "          'Classifier__learning_rate':[0.05, 0.5, 1],\n",
    "          'Classifier__min_child_weight':[5, 10, 20], \n",
    "          'Classifier__max_depth': [5, 10, 20]},\n",
    "       \n",
    "        {'Classifier': [RandomForestClassifier(random_state=42)],\n",
    "         'Classifier__max_depth': [1, 10, 20, 40, 50],\n",
    "         'Classifier__n_estimators': [100, 200, 300],\n",
    "         'Classifier__min_samples_split': [2, 4, 8],\n",
    "         'Classifier__max_features': [3, 5, 8]\n",
    "        },\n",
    "        \n",
    "        {'Classifier': [KNeighborsClassifier()],\n",
    "         'Classifier__n_neighbors': [3, 5, 10, 20],\n",
    "         'Classifier__weights': ['uniform', 'distance'],\n",
    "         'Classifier__leaf_size': [10, 20, 30],\n",
    "         'Classifier__algorithm': ['auto', 'ball_tree', 'kd_tree']\n",
    "         \n",
    "        },\n",
    "        \n",
    "        {'Classifier': [DecisionTreeClassifier(random_state=42)],\n",
    "         'Classifier__criterion': ['gini', 'entropy', 'log_loss'],\n",
    "         'Classifier__splitter': ['best', 'random'],\n",
    "         'Classifier__min_impurity_decrease':[0.0, 0.1, 0.5]\n",
    "        }\n",
    "       ]\n",
    "\n",
    "search_3 = GridSearchCV(Pipeline_with_models, grid_2, cv=5, scoring='roc_auc' , n_jobs=-1, verbose=1)\n",
    "search_3.fit(X_train_res, y_train_res)"
   ]
  },
  {
   "cell_type": "code",
   "execution_count": 126,
   "id": "48dd5d7a",
   "metadata": {},
   "outputs": [
    {
     "data": {
      "text/plain": [
       "0.9837484869146275"
      ]
     },
     "execution_count": 126,
     "metadata": {},
     "output_type": "execute_result"
    }
   ],
   "source": [
    "search_3.best_score_"
   ]
  },
  {
   "cell_type": "code",
   "execution_count": 127,
   "id": "15d5cef3",
   "metadata": {},
   "outputs": [
    {
     "data": {
      "text/plain": [
       "{'Classifier': XGBClassifier(base_score=None, booster=None, callbacks=None,\n",
       "               colsample_bylevel=None, colsample_bynode=None,\n",
       "               colsample_bytree=None, early_stopping_rounds=None,\n",
       "               enable_categorical=False, eval_metric='mlogloss',\n",
       "               feature_types=None, gamma=None, gpu_id=None, grow_policy=None,\n",
       "               importance_type=None, interaction_constraints=None,\n",
       "               learning_rate=0.5, max_bin=None, max_cat_threshold=None,\n",
       "               max_cat_to_onehot=None, max_delta_step=None, max_depth=20,\n",
       "               max_leaves=None, min_child_weight=5, missing=nan,\n",
       "               monotone_constraints=None, n_estimators=100, n_jobs=None,\n",
       "               num_parallel_tree=None, predictor=None, random_state=42, ...),\n",
       " 'Classifier__eval_metric': 'mlogloss',\n",
       " 'Classifier__learning_rate': 0.5,\n",
       " 'Classifier__max_depth': 20,\n",
       " 'Classifier__min_child_weight': 5,\n",
       " 'Classifier__n_estimators': 100}"
      ]
     },
     "execution_count": 127,
     "metadata": {},
     "output_type": "execute_result"
    }
   ],
   "source": [
    "search_3.best_params_"
   ]
  },
  {
   "cell_type": "markdown",
   "id": "d6cdf48c",
   "metadata": {},
   "source": [
    "- Great, trained the model for a very long time for a 0.01% increase. Let's now check out how it predicts the Y test dataset. "
   ]
  },
  {
   "cell_type": "code",
   "execution_count": 131,
   "id": "e1e68fc6",
   "metadata": {},
   "outputs": [
    {
     "name": "stdout",
     "output_type": "stream",
     "text": [
      "Original Score with Logistic Regression:  0.7124106294034146\n",
      "Original Score with KNC:  0.8246887493976844\n",
      "Original Score with Decision Trees:  0.7096163738653678\n",
      "Original Score with Random Forest:  0.7579961451808248\n",
      "Original Score with XGBoost:  0.7414756078502872\n",
      "Final AUC Score with optimised XGBoost:  0.7168856707515595\n"
     ]
    }
   ],
   "source": [
    "optimised_model_2 = search_3.best_estimator_\n",
    "\n",
    "optimised_model_cv_2 = cross_validate(optimised_model_2, X_train_res, y_train_res, cv=10, scoring='roc_auc', n_jobs=-1)\n",
    "optimised_model_Score_2 = optimised_model_cv_2['test_score'].mean()\n",
    "\n",
    "print('Original Score with Logistic Regression: ', roc_auc_score(y_test, optimised_model.predict(X_test)))\n",
    "print('Original Score with KNC: ', roc_auc_score(y_test, Pipeline_with_KNC.predict(X_test)))\n",
    "print('Original Score with Decision Trees: ', roc_auc_score(y_test, Pipeline_with_DecisionTree.predict(X_test)))\n",
    "print('Original Score with Random Forest: ', roc_auc_score(y_test, Pipeline_with_RandomForest.predict(X_test)))\n",
    "print('Original Score with XGBoost: ', roc_auc_score(y_test, Pipeline_with_XGB.predict(X_test)))\n",
    "print('Final AUC Score with optimised XGBoost: ', roc_auc_score(y_test, optimised_model_2.predict(X_test)))"
   ]
  },
  {
   "cell_type": "markdown",
   "id": "ef790700",
   "metadata": {},
   "source": [
    "### Bizarre our optimised XGBoost model did not predict the test set as good as the K-Neighbours Model. \n",
    "- Let's try and optimise the KNC now: "
   ]
  },
  {
   "cell_type": "code",
   "execution_count": 132,
   "id": "b12a67df",
   "metadata": {},
   "outputs": [
    {
     "name": "stdout",
     "output_type": "stream",
     "text": [
      "Fitting 10 folds for each of 72 candidates, totalling 720 fits\n"
     ]
    },
    {
     "data": {
      "text/html": [
       "<style>#sk-container-id-9 {color: black;background-color: white;}#sk-container-id-9 pre{padding: 0;}#sk-container-id-9 div.sk-toggleable {background-color: white;}#sk-container-id-9 label.sk-toggleable__label {cursor: pointer;display: block;width: 100%;margin-bottom: 0;padding: 0.3em;box-sizing: border-box;text-align: center;}#sk-container-id-9 label.sk-toggleable__label-arrow:before {content: \"▸\";float: left;margin-right: 0.25em;color: #696969;}#sk-container-id-9 label.sk-toggleable__label-arrow:hover:before {color: black;}#sk-container-id-9 div.sk-estimator:hover label.sk-toggleable__label-arrow:before {color: black;}#sk-container-id-9 div.sk-toggleable__content {max-height: 0;max-width: 0;overflow: hidden;text-align: left;background-color: #f0f8ff;}#sk-container-id-9 div.sk-toggleable__content pre {margin: 0.2em;color: black;border-radius: 0.25em;background-color: #f0f8ff;}#sk-container-id-9 input.sk-toggleable__control:checked~div.sk-toggleable__content {max-height: 200px;max-width: 100%;overflow: auto;}#sk-container-id-9 input.sk-toggleable__control:checked~label.sk-toggleable__label-arrow:before {content: \"▾\";}#sk-container-id-9 div.sk-estimator input.sk-toggleable__control:checked~label.sk-toggleable__label {background-color: #d4ebff;}#sk-container-id-9 div.sk-label input.sk-toggleable__control:checked~label.sk-toggleable__label {background-color: #d4ebff;}#sk-container-id-9 input.sk-hidden--visually {border: 0;clip: rect(1px 1px 1px 1px);clip: rect(1px, 1px, 1px, 1px);height: 1px;margin: -1px;overflow: hidden;padding: 0;position: absolute;width: 1px;}#sk-container-id-9 div.sk-estimator {font-family: monospace;background-color: #f0f8ff;border: 1px dotted black;border-radius: 0.25em;box-sizing: border-box;margin-bottom: 0.5em;}#sk-container-id-9 div.sk-estimator:hover {background-color: #d4ebff;}#sk-container-id-9 div.sk-parallel-item::after {content: \"\";width: 100%;border-bottom: 1px solid gray;flex-grow: 1;}#sk-container-id-9 div.sk-label:hover label.sk-toggleable__label {background-color: #d4ebff;}#sk-container-id-9 div.sk-serial::before {content: \"\";position: absolute;border-left: 1px solid gray;box-sizing: border-box;top: 0;bottom: 0;left: 50%;z-index: 0;}#sk-container-id-9 div.sk-serial {display: flex;flex-direction: column;align-items: center;background-color: white;padding-right: 0.2em;padding-left: 0.2em;position: relative;}#sk-container-id-9 div.sk-item {position: relative;z-index: 1;}#sk-container-id-9 div.sk-parallel {display: flex;align-items: stretch;justify-content: center;background-color: white;position: relative;}#sk-container-id-9 div.sk-item::before, #sk-container-id-9 div.sk-parallel-item::before {content: \"\";position: absolute;border-left: 1px solid gray;box-sizing: border-box;top: 0;bottom: 0;left: 50%;z-index: -1;}#sk-container-id-9 div.sk-parallel-item {display: flex;flex-direction: column;z-index: 1;position: relative;background-color: white;}#sk-container-id-9 div.sk-parallel-item:first-child::after {align-self: flex-end;width: 50%;}#sk-container-id-9 div.sk-parallel-item:last-child::after {align-self: flex-start;width: 50%;}#sk-container-id-9 div.sk-parallel-item:only-child::after {width: 0;}#sk-container-id-9 div.sk-dashed-wrapped {border: 1px dashed gray;margin: 0 0.4em 0.5em 0.4em;box-sizing: border-box;padding-bottom: 0.4em;background-color: white;}#sk-container-id-9 div.sk-label label {font-family: monospace;font-weight: bold;display: inline-block;line-height: 1.2em;}#sk-container-id-9 div.sk-label-container {text-align: center;}#sk-container-id-9 div.sk-container {/* jupyter's `normalize.less` sets `[hidden] { display: none; }` but bootstrap.min.css set `[hidden] { display: none !important; }` so we also need the `!important` here to be able to override the default hidden behavior on the sphinx rendered scikit-learn.org. See: https://github.com/scikit-learn/scikit-learn/issues/21755 */display: inline-block !important;position: relative;}#sk-container-id-9 div.sk-text-repr-fallback {display: none;}</style><div id=\"sk-container-id-9\" class=\"sk-top-container\"><div class=\"sk-text-repr-fallback\"><pre>GridSearchCV(cv=10,\n",
       "             estimator=Pipeline(steps=[(&#x27;Preprocessing&#x27;,\n",
       "                                        ColumnTransformer(transformers=[(&#x27;functiontransformer&#x27;,\n",
       "                                                                         FunctionTransformer(func=&lt;function &lt;lambda&gt; at 0x7fbfe58f2170&gt;),\n",
       "                                                                         [&#x27;est_diameter_min&#x27;,\n",
       "                                                                          &#x27;est_diameter_min&#x27;]),\n",
       "                                                                        (&#x27;robustscaler&#x27;,\n",
       "                                                                         RobustScaler(),\n",
       "                                                                         [&#x27;absolute_magnitude&#x27;,\n",
       "                                                                          &#x27;relative_velocity&#x27;]),\n",
       "                                                                        (&#x27;minmaxscaler&#x27;,\n",
       "                                                                         MinMaxScaler(),\n",
       "                                                                         [&#x27;miss_distance&#x27;])])),\n",
       "                                       (&#x27;Classifier&#x27;, SGDClassifier())]),\n",
       "             n_jobs=-1,\n",
       "             param_grid=[{&#x27;Classifier&#x27;: [KNeighborsClassifier(leaf_size=10,\n",
       "                                                              n_neighbors=20,\n",
       "                                                              weights=&#x27;distance&#x27;)],\n",
       "                          &#x27;Classifier__algorithm&#x27;: [&#x27;auto&#x27;, &#x27;ball_tree&#x27;,\n",
       "                                                    &#x27;kd_tree&#x27;],\n",
       "                          &#x27;Classifier__leaf_size&#x27;: [10, 20, 30],\n",
       "                          &#x27;Classifier__n_neighbors&#x27;: [3, 5, 10, 20],\n",
       "                          &#x27;Classifier__weights&#x27;: [&#x27;uniform&#x27;, &#x27;distance&#x27;]}],\n",
       "             scoring=&#x27;roc_auc&#x27;, verbose=1)</pre><b>In a Jupyter environment, please rerun this cell to show the HTML representation or trust the notebook. <br />On GitHub, the HTML representation is unable to render, please try loading this page with nbviewer.org.</b></div><div class=\"sk-container\" hidden><div class=\"sk-item sk-dashed-wrapped\"><div class=\"sk-label-container\"><div class=\"sk-label sk-toggleable\"><input class=\"sk-toggleable__control sk-hidden--visually\" id=\"sk-estimator-id-81\" type=\"checkbox\" ><label for=\"sk-estimator-id-81\" class=\"sk-toggleable__label sk-toggleable__label-arrow\">GridSearchCV</label><div class=\"sk-toggleable__content\"><pre>GridSearchCV(cv=10,\n",
       "             estimator=Pipeline(steps=[(&#x27;Preprocessing&#x27;,\n",
       "                                        ColumnTransformer(transformers=[(&#x27;functiontransformer&#x27;,\n",
       "                                                                         FunctionTransformer(func=&lt;function &lt;lambda&gt; at 0x7fbfe58f2170&gt;),\n",
       "                                                                         [&#x27;est_diameter_min&#x27;,\n",
       "                                                                          &#x27;est_diameter_min&#x27;]),\n",
       "                                                                        (&#x27;robustscaler&#x27;,\n",
       "                                                                         RobustScaler(),\n",
       "                                                                         [&#x27;absolute_magnitude&#x27;,\n",
       "                                                                          &#x27;relative_velocity&#x27;]),\n",
       "                                                                        (&#x27;minmaxscaler&#x27;,\n",
       "                                                                         MinMaxScaler(),\n",
       "                                                                         [&#x27;miss_distance&#x27;])])),\n",
       "                                       (&#x27;Classifier&#x27;, SGDClassifier())]),\n",
       "             n_jobs=-1,\n",
       "             param_grid=[{&#x27;Classifier&#x27;: [KNeighborsClassifier(leaf_size=10,\n",
       "                                                              n_neighbors=20,\n",
       "                                                              weights=&#x27;distance&#x27;)],\n",
       "                          &#x27;Classifier__algorithm&#x27;: [&#x27;auto&#x27;, &#x27;ball_tree&#x27;,\n",
       "                                                    &#x27;kd_tree&#x27;],\n",
       "                          &#x27;Classifier__leaf_size&#x27;: [10, 20, 30],\n",
       "                          &#x27;Classifier__n_neighbors&#x27;: [3, 5, 10, 20],\n",
       "                          &#x27;Classifier__weights&#x27;: [&#x27;uniform&#x27;, &#x27;distance&#x27;]}],\n",
       "             scoring=&#x27;roc_auc&#x27;, verbose=1)</pre></div></div></div><div class=\"sk-parallel\"><div class=\"sk-parallel-item\"><div class=\"sk-item\"><div class=\"sk-label-container\"><div class=\"sk-label sk-toggleable\"><input class=\"sk-toggleable__control sk-hidden--visually\" id=\"sk-estimator-id-82\" type=\"checkbox\" ><label for=\"sk-estimator-id-82\" class=\"sk-toggleable__label sk-toggleable__label-arrow\">estimator: Pipeline</label><div class=\"sk-toggleable__content\"><pre>Pipeline(steps=[(&#x27;Preprocessing&#x27;,\n",
       "                 ColumnTransformer(transformers=[(&#x27;functiontransformer&#x27;,\n",
       "                                                  FunctionTransformer(func=&lt;function &lt;lambda&gt; at 0x7fbfe58f2170&gt;),\n",
       "                                                  [&#x27;est_diameter_min&#x27;,\n",
       "                                                   &#x27;est_diameter_min&#x27;]),\n",
       "                                                 (&#x27;robustscaler&#x27;,\n",
       "                                                  RobustScaler(),\n",
       "                                                  [&#x27;absolute_magnitude&#x27;,\n",
       "                                                   &#x27;relative_velocity&#x27;]),\n",
       "                                                 (&#x27;minmaxscaler&#x27;,\n",
       "                                                  MinMaxScaler(),\n",
       "                                                  [&#x27;miss_distance&#x27;])])),\n",
       "                (&#x27;Classifier&#x27;, SGDClassifier())])</pre></div></div></div><div class=\"sk-serial\"><div class=\"sk-item\"><div class=\"sk-serial\"><div class=\"sk-item sk-dashed-wrapped\"><div class=\"sk-label-container\"><div class=\"sk-label sk-toggleable\"><input class=\"sk-toggleable__control sk-hidden--visually\" id=\"sk-estimator-id-83\" type=\"checkbox\" ><label for=\"sk-estimator-id-83\" class=\"sk-toggleable__label sk-toggleable__label-arrow\">Preprocessing: ColumnTransformer</label><div class=\"sk-toggleable__content\"><pre>ColumnTransformer(transformers=[(&#x27;functiontransformer&#x27;,\n",
       "                                 FunctionTransformer(func=&lt;function &lt;lambda&gt; at 0x7fbfe58f2170&gt;),\n",
       "                                 [&#x27;est_diameter_min&#x27;, &#x27;est_diameter_min&#x27;]),\n",
       "                                (&#x27;robustscaler&#x27;, RobustScaler(),\n",
       "                                 [&#x27;absolute_magnitude&#x27;, &#x27;relative_velocity&#x27;]),\n",
       "                                (&#x27;minmaxscaler&#x27;, MinMaxScaler(),\n",
       "                                 [&#x27;miss_distance&#x27;])])</pre></div></div></div><div class=\"sk-parallel\"><div class=\"sk-parallel-item\"><div class=\"sk-item\"><div class=\"sk-label-container\"><div class=\"sk-label sk-toggleable\"><input class=\"sk-toggleable__control sk-hidden--visually\" id=\"sk-estimator-id-84\" type=\"checkbox\" ><label for=\"sk-estimator-id-84\" class=\"sk-toggleable__label sk-toggleable__label-arrow\">functiontransformer</label><div class=\"sk-toggleable__content\"><pre>[&#x27;est_diameter_min&#x27;, &#x27;est_diameter_min&#x27;]</pre></div></div></div><div class=\"sk-serial\"><div class=\"sk-item\"><div class=\"sk-estimator sk-toggleable\"><input class=\"sk-toggleable__control sk-hidden--visually\" id=\"sk-estimator-id-85\" type=\"checkbox\" ><label for=\"sk-estimator-id-85\" class=\"sk-toggleable__label sk-toggleable__label-arrow\">FunctionTransformer</label><div class=\"sk-toggleable__content\"><pre>FunctionTransformer(func=&lt;function &lt;lambda&gt; at 0x7fbfe58f2170&gt;)</pre></div></div></div></div></div></div><div class=\"sk-parallel-item\"><div class=\"sk-item\"><div class=\"sk-label-container\"><div class=\"sk-label sk-toggleable\"><input class=\"sk-toggleable__control sk-hidden--visually\" id=\"sk-estimator-id-86\" type=\"checkbox\" ><label for=\"sk-estimator-id-86\" class=\"sk-toggleable__label sk-toggleable__label-arrow\">robustscaler</label><div class=\"sk-toggleable__content\"><pre>[&#x27;absolute_magnitude&#x27;, &#x27;relative_velocity&#x27;]</pre></div></div></div><div class=\"sk-serial\"><div class=\"sk-item\"><div class=\"sk-estimator sk-toggleable\"><input class=\"sk-toggleable__control sk-hidden--visually\" id=\"sk-estimator-id-87\" type=\"checkbox\" ><label for=\"sk-estimator-id-87\" class=\"sk-toggleable__label sk-toggleable__label-arrow\">RobustScaler</label><div class=\"sk-toggleable__content\"><pre>RobustScaler()</pre></div></div></div></div></div></div><div class=\"sk-parallel-item\"><div class=\"sk-item\"><div class=\"sk-label-container\"><div class=\"sk-label sk-toggleable\"><input class=\"sk-toggleable__control sk-hidden--visually\" id=\"sk-estimator-id-88\" type=\"checkbox\" ><label for=\"sk-estimator-id-88\" class=\"sk-toggleable__label sk-toggleable__label-arrow\">minmaxscaler</label><div class=\"sk-toggleable__content\"><pre>[&#x27;miss_distance&#x27;]</pre></div></div></div><div class=\"sk-serial\"><div class=\"sk-item\"><div class=\"sk-estimator sk-toggleable\"><input class=\"sk-toggleable__control sk-hidden--visually\" id=\"sk-estimator-id-89\" type=\"checkbox\" ><label for=\"sk-estimator-id-89\" class=\"sk-toggleable__label sk-toggleable__label-arrow\">MinMaxScaler</label><div class=\"sk-toggleable__content\"><pre>MinMaxScaler()</pre></div></div></div></div></div></div></div></div><div class=\"sk-item\"><div class=\"sk-estimator sk-toggleable\"><input class=\"sk-toggleable__control sk-hidden--visually\" id=\"sk-estimator-id-90\" type=\"checkbox\" ><label for=\"sk-estimator-id-90\" class=\"sk-toggleable__label sk-toggleable__label-arrow\">SGDClassifier</label><div class=\"sk-toggleable__content\"><pre>SGDClassifier()</pre></div></div></div></div></div></div></div></div></div></div></div></div>"
      ],
      "text/plain": [
       "GridSearchCV(cv=10,\n",
       "             estimator=Pipeline(steps=[('Preprocessing',\n",
       "                                        ColumnTransformer(transformers=[('functiontransformer',\n",
       "                                                                         FunctionTransformer(func=<function <lambda> at 0x7fbfe58f2170>),\n",
       "                                                                         ['est_diameter_min',\n",
       "                                                                          'est_diameter_min']),\n",
       "                                                                        ('robustscaler',\n",
       "                                                                         RobustScaler(),\n",
       "                                                                         ['absolute_magnitude',\n",
       "                                                                          'relative_velocity']),\n",
       "                                                                        ('minmaxscaler',\n",
       "                                                                         MinMaxScaler(),\n",
       "                                                                         ['miss_distance'])])),\n",
       "                                       ('Classifier', SGDClassifier())]),\n",
       "             n_jobs=-1,\n",
       "             param_grid=[{'Classifier': [KNeighborsClassifier(leaf_size=10,\n",
       "                                                              n_neighbors=20,\n",
       "                                                              weights='distance')],\n",
       "                          'Classifier__algorithm': ['auto', 'ball_tree',\n",
       "                                                    'kd_tree'],\n",
       "                          'Classifier__leaf_size': [10, 20, 30],\n",
       "                          'Classifier__n_neighbors': [3, 5, 10, 20],\n",
       "                          'Classifier__weights': ['uniform', 'distance']}],\n",
       "             scoring='roc_auc', verbose=1)"
      ]
     },
     "execution_count": 132,
     "metadata": {},
     "output_type": "execute_result"
    }
   ],
   "source": [
    "grid_3 = [{'Classifier': [KNeighborsClassifier()],\n",
    "         'Classifier__n_neighbors': [3, 5, 10, 20],\n",
    "         'Classifier__weights': ['uniform', 'distance'],\n",
    "         'Classifier__leaf_size': [10, 20, 30],\n",
    "         'Classifier__algorithm': ['auto', 'ball_tree', 'kd_tree']\n",
    "         \n",
    "        }\n",
    "       ]\n",
    "\n",
    "search_4 = GridSearchCV(Pipeline_with_models, grid_3, cv=10, scoring='roc_auc' , n_jobs=-1, verbose=1)\n",
    "search_4.fit(X_train_res, y_train_res)"
   ]
  },
  {
   "cell_type": "code",
   "execution_count": 134,
   "id": "f829fdce",
   "metadata": {},
   "outputs": [
    {
     "data": {
      "text/plain": [
       "0.9369668908385872"
      ]
     },
     "execution_count": 134,
     "metadata": {},
     "output_type": "execute_result"
    }
   ],
   "source": [
    "search_4.best_score_"
   ]
  },
  {
   "cell_type": "code",
   "execution_count": 135,
   "id": "b3ce81a0",
   "metadata": {},
   "outputs": [
    {
     "data": {
      "text/plain": [
       "{'Classifier': KNeighborsClassifier(leaf_size=10, n_neighbors=20, weights='distance'),\n",
       " 'Classifier__algorithm': 'auto',\n",
       " 'Classifier__leaf_size': 10,\n",
       " 'Classifier__n_neighbors': 20,\n",
       " 'Classifier__weights': 'distance'}"
      ]
     },
     "execution_count": 135,
     "metadata": {},
     "output_type": "execute_result"
    }
   ],
   "source": [
    "search_4.best_params_"
   ]
  },
  {
   "cell_type": "code",
   "execution_count": 136,
   "id": "135b905f",
   "metadata": {},
   "outputs": [
    {
     "name": "stdout",
     "output_type": "stream",
     "text": [
      "Original Score with Logistic Regression:  0.7124106294034146\n",
      "Original Score with KNC:  0.8246887493976844\n",
      "Original Score with Decision Trees:  0.7096163738653678\n",
      "Original Score with Random Forest:  0.7579961451808248\n",
      "Original Score with XGBoost:  0.7414756078502872\n",
      "Final AUC Score with optimised XGBoost:  0.7168856707515595\n",
      "Final AUC Score with optimised KNC Model:  0.85169364605988\n"
     ]
    }
   ],
   "source": [
    "optimised_model_3 = search_4.best_estimator_\n",
    "\n",
    "optimised_model_cv_3 = cross_validate(optimised_model_3, X_train_res, y_train_res, cv=10, scoring='roc_auc', n_jobs=-1)\n",
    "optimised_model_Score_3 = optimised_model_cv_3['test_score'].mean()\n",
    "\n",
    "print('Original Score with Logistic Regression: ', roc_auc_score(y_test, optimised_model.predict(X_test)))\n",
    "print('Original Score with KNC: ', roc_auc_score(y_test, Pipeline_with_KNC.predict(X_test)))\n",
    "print('Original Score with Decision Trees: ', roc_auc_score(y_test, Pipeline_with_DecisionTree.predict(X_test)))\n",
    "print('Original Score with Random Forest: ', roc_auc_score(y_test, Pipeline_with_RandomForest.predict(X_test)))\n",
    "print('Original Score with XGBoost: ', roc_auc_score(y_test, Pipeline_with_XGB.predict(X_test)))\n",
    "print('Final AUC Score with optimised XGBoost: ', roc_auc_score(y_test, optimised_model_2.predict(X_test)))\n",
    "print('Final AUC Score with optimised KNC Model: ', roc_auc_score(y_test, optimised_model_3.predict(X_test)))"
   ]
  },
  {
   "cell_type": "markdown",
   "id": "acd163c4",
   "metadata": {},
   "source": [
    "### Great so Final Model we could use is the KNC Model as we have a final AUC Score of 85%.\n",
    "\n",
    "Here is our Final Model Pipeline:"
   ]
  },
  {
   "cell_type": "code",
   "execution_count": 138,
   "id": "00437dd7",
   "metadata": {},
   "outputs": [
    {
     "data": {
      "text/html": [
       "<style>#sk-container-id-11 {color: black;background-color: white;}#sk-container-id-11 pre{padding: 0;}#sk-container-id-11 div.sk-toggleable {background-color: white;}#sk-container-id-11 label.sk-toggleable__label {cursor: pointer;display: block;width: 100%;margin-bottom: 0;padding: 0.3em;box-sizing: border-box;text-align: center;}#sk-container-id-11 label.sk-toggleable__label-arrow:before {content: \"▸\";float: left;margin-right: 0.25em;color: #696969;}#sk-container-id-11 label.sk-toggleable__label-arrow:hover:before {color: black;}#sk-container-id-11 div.sk-estimator:hover label.sk-toggleable__label-arrow:before {color: black;}#sk-container-id-11 div.sk-toggleable__content {max-height: 0;max-width: 0;overflow: hidden;text-align: left;background-color: #f0f8ff;}#sk-container-id-11 div.sk-toggleable__content pre {margin: 0.2em;color: black;border-radius: 0.25em;background-color: #f0f8ff;}#sk-container-id-11 input.sk-toggleable__control:checked~div.sk-toggleable__content {max-height: 200px;max-width: 100%;overflow: auto;}#sk-container-id-11 input.sk-toggleable__control:checked~label.sk-toggleable__label-arrow:before {content: \"▾\";}#sk-container-id-11 div.sk-estimator input.sk-toggleable__control:checked~label.sk-toggleable__label {background-color: #d4ebff;}#sk-container-id-11 div.sk-label input.sk-toggleable__control:checked~label.sk-toggleable__label {background-color: #d4ebff;}#sk-container-id-11 input.sk-hidden--visually {border: 0;clip: rect(1px 1px 1px 1px);clip: rect(1px, 1px, 1px, 1px);height: 1px;margin: -1px;overflow: hidden;padding: 0;position: absolute;width: 1px;}#sk-container-id-11 div.sk-estimator {font-family: monospace;background-color: #f0f8ff;border: 1px dotted black;border-radius: 0.25em;box-sizing: border-box;margin-bottom: 0.5em;}#sk-container-id-11 div.sk-estimator:hover {background-color: #d4ebff;}#sk-container-id-11 div.sk-parallel-item::after {content: \"\";width: 100%;border-bottom: 1px solid gray;flex-grow: 1;}#sk-container-id-11 div.sk-label:hover label.sk-toggleable__label {background-color: #d4ebff;}#sk-container-id-11 div.sk-serial::before {content: \"\";position: absolute;border-left: 1px solid gray;box-sizing: border-box;top: 0;bottom: 0;left: 50%;z-index: 0;}#sk-container-id-11 div.sk-serial {display: flex;flex-direction: column;align-items: center;background-color: white;padding-right: 0.2em;padding-left: 0.2em;position: relative;}#sk-container-id-11 div.sk-item {position: relative;z-index: 1;}#sk-container-id-11 div.sk-parallel {display: flex;align-items: stretch;justify-content: center;background-color: white;position: relative;}#sk-container-id-11 div.sk-item::before, #sk-container-id-11 div.sk-parallel-item::before {content: \"\";position: absolute;border-left: 1px solid gray;box-sizing: border-box;top: 0;bottom: 0;left: 50%;z-index: -1;}#sk-container-id-11 div.sk-parallel-item {display: flex;flex-direction: column;z-index: 1;position: relative;background-color: white;}#sk-container-id-11 div.sk-parallel-item:first-child::after {align-self: flex-end;width: 50%;}#sk-container-id-11 div.sk-parallel-item:last-child::after {align-self: flex-start;width: 50%;}#sk-container-id-11 div.sk-parallel-item:only-child::after {width: 0;}#sk-container-id-11 div.sk-dashed-wrapped {border: 1px dashed gray;margin: 0 0.4em 0.5em 0.4em;box-sizing: border-box;padding-bottom: 0.4em;background-color: white;}#sk-container-id-11 div.sk-label label {font-family: monospace;font-weight: bold;display: inline-block;line-height: 1.2em;}#sk-container-id-11 div.sk-label-container {text-align: center;}#sk-container-id-11 div.sk-container {/* jupyter's `normalize.less` sets `[hidden] { display: none; }` but bootstrap.min.css set `[hidden] { display: none !important; }` so we also need the `!important` here to be able to override the default hidden behavior on the sphinx rendered scikit-learn.org. See: https://github.com/scikit-learn/scikit-learn/issues/21755 */display: inline-block !important;position: relative;}#sk-container-id-11 div.sk-text-repr-fallback {display: none;}</style><div id=\"sk-container-id-11\" class=\"sk-top-container\"><div class=\"sk-text-repr-fallback\"><pre>Pipeline(steps=[(&#x27;Preprocessing&#x27;,\n",
       "                 ColumnTransformer(transformers=[(&#x27;functiontransformer&#x27;,\n",
       "                                                  FunctionTransformer(func=&lt;function &lt;lambda&gt; at 0x7fbfe58f2170&gt;),\n",
       "                                                  [&#x27;est_diameter_min&#x27;,\n",
       "                                                   &#x27;est_diameter_min&#x27;]),\n",
       "                                                 (&#x27;robustscaler&#x27;,\n",
       "                                                  RobustScaler(),\n",
       "                                                  [&#x27;absolute_magnitude&#x27;,\n",
       "                                                   &#x27;relative_velocity&#x27;]),\n",
       "                                                 (&#x27;minmaxscaler&#x27;,\n",
       "                                                  MinMaxScaler(),\n",
       "                                                  [&#x27;miss_distance&#x27;])])),\n",
       "                (&#x27;Classifier&#x27;,\n",
       "                 KNeighborsClassifier(leaf_size=10, n_neighbors=20,\n",
       "                                      weights=&#x27;distance&#x27;))])</pre><b>In a Jupyter environment, please rerun this cell to show the HTML representation or trust the notebook. <br />On GitHub, the HTML representation is unable to render, please try loading this page with nbviewer.org.</b></div><div class=\"sk-container\" hidden><div class=\"sk-item sk-dashed-wrapped\"><div class=\"sk-label-container\"><div class=\"sk-label sk-toggleable\"><input class=\"sk-toggleable__control sk-hidden--visually\" id=\"sk-estimator-id-100\" type=\"checkbox\" ><label for=\"sk-estimator-id-100\" class=\"sk-toggleable__label sk-toggleable__label-arrow\">Pipeline</label><div class=\"sk-toggleable__content\"><pre>Pipeline(steps=[(&#x27;Preprocessing&#x27;,\n",
       "                 ColumnTransformer(transformers=[(&#x27;functiontransformer&#x27;,\n",
       "                                                  FunctionTransformer(func=&lt;function &lt;lambda&gt; at 0x7fbfe58f2170&gt;),\n",
       "                                                  [&#x27;est_diameter_min&#x27;,\n",
       "                                                   &#x27;est_diameter_min&#x27;]),\n",
       "                                                 (&#x27;robustscaler&#x27;,\n",
       "                                                  RobustScaler(),\n",
       "                                                  [&#x27;absolute_magnitude&#x27;,\n",
       "                                                   &#x27;relative_velocity&#x27;]),\n",
       "                                                 (&#x27;minmaxscaler&#x27;,\n",
       "                                                  MinMaxScaler(),\n",
       "                                                  [&#x27;miss_distance&#x27;])])),\n",
       "                (&#x27;Classifier&#x27;,\n",
       "                 KNeighborsClassifier(leaf_size=10, n_neighbors=20,\n",
       "                                      weights=&#x27;distance&#x27;))])</pre></div></div></div><div class=\"sk-serial\"><div class=\"sk-item sk-dashed-wrapped\"><div class=\"sk-label-container\"><div class=\"sk-label sk-toggleable\"><input class=\"sk-toggleable__control sk-hidden--visually\" id=\"sk-estimator-id-101\" type=\"checkbox\" ><label for=\"sk-estimator-id-101\" class=\"sk-toggleable__label sk-toggleable__label-arrow\">Preprocessing: ColumnTransformer</label><div class=\"sk-toggleable__content\"><pre>ColumnTransformer(transformers=[(&#x27;functiontransformer&#x27;,\n",
       "                                 FunctionTransformer(func=&lt;function &lt;lambda&gt; at 0x7fbfe58f2170&gt;),\n",
       "                                 [&#x27;est_diameter_min&#x27;, &#x27;est_diameter_min&#x27;]),\n",
       "                                (&#x27;robustscaler&#x27;, RobustScaler(),\n",
       "                                 [&#x27;absolute_magnitude&#x27;, &#x27;relative_velocity&#x27;]),\n",
       "                                (&#x27;minmaxscaler&#x27;, MinMaxScaler(),\n",
       "                                 [&#x27;miss_distance&#x27;])])</pre></div></div></div><div class=\"sk-parallel\"><div class=\"sk-parallel-item\"><div class=\"sk-item\"><div class=\"sk-label-container\"><div class=\"sk-label sk-toggleable\"><input class=\"sk-toggleable__control sk-hidden--visually\" id=\"sk-estimator-id-102\" type=\"checkbox\" ><label for=\"sk-estimator-id-102\" class=\"sk-toggleable__label sk-toggleable__label-arrow\">functiontransformer</label><div class=\"sk-toggleable__content\"><pre>[&#x27;est_diameter_min&#x27;, &#x27;est_diameter_min&#x27;]</pre></div></div></div><div class=\"sk-serial\"><div class=\"sk-item\"><div class=\"sk-estimator sk-toggleable\"><input class=\"sk-toggleable__control sk-hidden--visually\" id=\"sk-estimator-id-103\" type=\"checkbox\" ><label for=\"sk-estimator-id-103\" class=\"sk-toggleable__label sk-toggleable__label-arrow\">FunctionTransformer</label><div class=\"sk-toggleable__content\"><pre>FunctionTransformer(func=&lt;function &lt;lambda&gt; at 0x7fbfe58f2170&gt;)</pre></div></div></div></div></div></div><div class=\"sk-parallel-item\"><div class=\"sk-item\"><div class=\"sk-label-container\"><div class=\"sk-label sk-toggleable\"><input class=\"sk-toggleable__control sk-hidden--visually\" id=\"sk-estimator-id-104\" type=\"checkbox\" ><label for=\"sk-estimator-id-104\" class=\"sk-toggleable__label sk-toggleable__label-arrow\">robustscaler</label><div class=\"sk-toggleable__content\"><pre>[&#x27;absolute_magnitude&#x27;, &#x27;relative_velocity&#x27;]</pre></div></div></div><div class=\"sk-serial\"><div class=\"sk-item\"><div class=\"sk-estimator sk-toggleable\"><input class=\"sk-toggleable__control sk-hidden--visually\" id=\"sk-estimator-id-105\" type=\"checkbox\" ><label for=\"sk-estimator-id-105\" class=\"sk-toggleable__label sk-toggleable__label-arrow\">RobustScaler</label><div class=\"sk-toggleable__content\"><pre>RobustScaler()</pre></div></div></div></div></div></div><div class=\"sk-parallel-item\"><div class=\"sk-item\"><div class=\"sk-label-container\"><div class=\"sk-label sk-toggleable\"><input class=\"sk-toggleable__control sk-hidden--visually\" id=\"sk-estimator-id-106\" type=\"checkbox\" ><label for=\"sk-estimator-id-106\" class=\"sk-toggleable__label sk-toggleable__label-arrow\">minmaxscaler</label><div class=\"sk-toggleable__content\"><pre>[&#x27;miss_distance&#x27;]</pre></div></div></div><div class=\"sk-serial\"><div class=\"sk-item\"><div class=\"sk-estimator sk-toggleable\"><input class=\"sk-toggleable__control sk-hidden--visually\" id=\"sk-estimator-id-107\" type=\"checkbox\" ><label for=\"sk-estimator-id-107\" class=\"sk-toggleable__label sk-toggleable__label-arrow\">MinMaxScaler</label><div class=\"sk-toggleable__content\"><pre>MinMaxScaler()</pre></div></div></div></div></div></div></div></div><div class=\"sk-item\"><div class=\"sk-estimator sk-toggleable\"><input class=\"sk-toggleable__control sk-hidden--visually\" id=\"sk-estimator-id-108\" type=\"checkbox\" ><label for=\"sk-estimator-id-108\" class=\"sk-toggleable__label sk-toggleable__label-arrow\">KNeighborsClassifier</label><div class=\"sk-toggleable__content\"><pre>KNeighborsClassifier(leaf_size=10, n_neighbors=20, weights=&#x27;distance&#x27;)</pre></div></div></div></div></div></div></div>"
      ],
      "text/plain": [
       "Pipeline(steps=[('Preprocessing',\n",
       "                 ColumnTransformer(transformers=[('functiontransformer',\n",
       "                                                  FunctionTransformer(func=<function <lambda> at 0x7fbfe58f2170>),\n",
       "                                                  ['est_diameter_min',\n",
       "                                                   'est_diameter_min']),\n",
       "                                                 ('robustscaler',\n",
       "                                                  RobustScaler(),\n",
       "                                                  ['absolute_magnitude',\n",
       "                                                   'relative_velocity']),\n",
       "                                                 ('minmaxscaler',\n",
       "                                                  MinMaxScaler(),\n",
       "                                                  ['miss_distance'])])),\n",
       "                ('Classifier',\n",
       "                 KNeighborsClassifier(leaf_size=10, n_neighbors=20,\n",
       "                                      weights='distance'))])"
      ]
     },
     "execution_count": 138,
     "metadata": {},
     "output_type": "execute_result"
    }
   ],
   "source": [
    "optimised_model_3"
   ]
  },
  {
   "cell_type": "markdown",
   "id": "23fc8161",
   "metadata": {},
   "source": [
    "# Final Comments: \n",
    "- Before further Implementations we should inclue a Simple Imputer at the start of the pipeline as future data could include some missing values."
   ]
  }
 ],
 "metadata": {
  "kernelspec": {
   "display_name": "Python 3 (ipykernel)",
   "language": "python",
   "name": "python3"
  },
  "language_info": {
   "codemirror_mode": {
    "name": "ipython",
    "version": 3
   },
   "file_extension": ".py",
   "mimetype": "text/x-python",
   "name": "python",
   "nbconvert_exporter": "python",
   "pygments_lexer": "ipython3",
   "version": "3.10.6"
  }
 },
 "nbformat": 4,
 "nbformat_minor": 5
}
